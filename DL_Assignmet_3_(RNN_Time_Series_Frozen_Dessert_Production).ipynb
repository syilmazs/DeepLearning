{
  "nbformat": 4,
  "nbformat_minor": 0,
  "metadata": {
    "kernelspec": {
      "display_name": "Python 3",
      "language": "python",
      "name": "python3"
    },
    "language_info": {
      "codemirror_mode": {
        "name": "ipython",
        "version": 3
      },
      "file_extension": ".py",
      "mimetype": "text/x-python",
      "name": "python",
      "nbconvert_exporter": "python",
      "pygments_lexer": "ipython3",
      "version": "3.7.6"
    },
    "colab": {
      "name": "DL_Assignmet_3_(RNN_Time_Series_Frozen_Dessert_Production).ipynb",
      "provenance": [],
      "collapsed_sections": [],
      "include_colab_link": true
    }
  },
  "cells": [
    {
      "cell_type": "markdown",
      "metadata": {
        "id": "view-in-github",
        "colab_type": "text"
      },
      "source": [
        "<a href=\"https://colab.research.google.com/github/syilmazs/DeepLearning/blob/main/DL_Assignmet_3_(RNN_Time_Series_Frozen_Dessert_Production).ipynb\" target=\"_parent\"><img src=\"https://colab.research.google.com/assets/colab-badge.svg\" alt=\"Open In Colab\"/></a>"
      ]
    },
    {
      "cell_type": "markdown",
      "metadata": {
        "id": "PrH59S4kW0UC"
      },
      "source": [
        "# Product Amount Forecast by Time"
      ]
    },
    {
      "cell_type": "markdown",
      "metadata": {
        "id": "VmTfi-sqW0UK"
      },
      "source": [
        "## Data\n",
        "\n",
        "Info about this data set: https://fred.stlouisfed.org/series/IPN31152N\n",
        "\n",
        "\n",
        "Units:  Index 2012=100, Not Seasonally Adjusted\n",
        "\n",
        "Frequency:  Monthly\n",
        "\n",
        "The industrial production (IP) index measures the real output of all relevant establishments located in the United States, regardless of their ownership, but not those located in U.S. territories.\n",
        "\n",
        "NAICS = 31152\n",
        "\n",
        "Source Code: IP.N31152.N\n",
        "\n",
        "Suggested Citation:\n",
        "Board of Governors of the Federal Reserve System (US), Industrial Production: Nondurable Goods: Ice cream and frozen dessert [IPN31152N], retrieved from FRED, Federal Reserve Bank of St. Louis; https://fred.stlouisfed.org/series/IPN31152N, November 16, 2019."
      ]
    },
    {
      "cell_type": "markdown",
      "metadata": {
        "id": "JgbAMYoeW0UM"
      },
      "source": [
        "## Import Libraries"
      ]
    },
    {
      "cell_type": "code",
      "metadata": {
        "id": "iALmCpKJW0UN"
      },
      "source": [
        "import numpy as np\n",
        "import pandas as pd\n",
        "import matplotlib.pyplot as plt\n",
        "import seaborn as sns\n",
        "\n",
        "import warnings\n",
        "warnings.filterwarnings(\"ignore\")\n",
        "warnings.warn(\"this will not show\")\n",
        "\n",
        "plt.rcParams[\"figure.figsize\"] = (12,6)\n",
        "\n",
        "sns.set_style(\"whitegrid\")\n",
        "pd.set_option('display.float_format', lambda x: '%.3f' % x)\n",
        "\n",
        "# Set it None to display all rows in the dataframe\n",
        "# pd.set_option('display.max_rows', None)\n",
        "\n",
        "# Set it to None to display all columns in the dataframe\n",
        "pd.set_option('display.max_columns', None)"
      ],
      "execution_count": 20,
      "outputs": []
    },
    {
      "cell_type": "markdown",
      "metadata": {
        "id": "w5nV2oy4W0UP"
      },
      "source": [
        "## Indest Data"
      ]
    },
    {
      "cell_type": "code",
      "metadata": {
        "id": "m0PzGfw-W0UP",
        "colab": {
          "base_uri": "https://localhost:8080/",
          "height": 238
        },
        "outputId": "6bccb33a-1281-48cc-e1e0-11658a6643ce"
      },
      "source": [
        "df = pd.read_csv(\"/content/Frozen_Dessert_Production.csv\", index_col=\"DATE\", parse_dates=True)\n",
        "df.head()"
      ],
      "execution_count": 4,
      "outputs": [
        {
          "output_type": "execute_result",
          "data": {
            "text/plain": [
              "            IPN31152N\n",
              "DATE                 \n",
              "1972-01-01     59.962\n",
              "1972-02-01     67.061\n",
              "1972-03-01     74.235\n",
              "1972-04-01     78.112\n",
              "1972-05-01     84.764"
            ],
            "text/html": [
              "\n",
              "  <div id=\"df-e53f8fbd-cbbe-439a-8e1d-1cc84dbbb160\">\n",
              "    <div class=\"colab-df-container\">\n",
              "      <div>\n",
              "<style scoped>\n",
              "    .dataframe tbody tr th:only-of-type {\n",
              "        vertical-align: middle;\n",
              "    }\n",
              "\n",
              "    .dataframe tbody tr th {\n",
              "        vertical-align: top;\n",
              "    }\n",
              "\n",
              "    .dataframe thead th {\n",
              "        text-align: right;\n",
              "    }\n",
              "</style>\n",
              "<table border=\"1\" class=\"dataframe\">\n",
              "  <thead>\n",
              "    <tr style=\"text-align: right;\">\n",
              "      <th></th>\n",
              "      <th>IPN31152N</th>\n",
              "    </tr>\n",
              "    <tr>\n",
              "      <th>DATE</th>\n",
              "      <th></th>\n",
              "    </tr>\n",
              "  </thead>\n",
              "  <tbody>\n",
              "    <tr>\n",
              "      <th>1972-01-01</th>\n",
              "      <td>59.962</td>\n",
              "    </tr>\n",
              "    <tr>\n",
              "      <th>1972-02-01</th>\n",
              "      <td>67.061</td>\n",
              "    </tr>\n",
              "    <tr>\n",
              "      <th>1972-03-01</th>\n",
              "      <td>74.235</td>\n",
              "    </tr>\n",
              "    <tr>\n",
              "      <th>1972-04-01</th>\n",
              "      <td>78.112</td>\n",
              "    </tr>\n",
              "    <tr>\n",
              "      <th>1972-05-01</th>\n",
              "      <td>84.764</td>\n",
              "    </tr>\n",
              "  </tbody>\n",
              "</table>\n",
              "</div>\n",
              "      <button class=\"colab-df-convert\" onclick=\"convertToInteractive('df-e53f8fbd-cbbe-439a-8e1d-1cc84dbbb160')\"\n",
              "              title=\"Convert this dataframe to an interactive table.\"\n",
              "              style=\"display:none;\">\n",
              "        \n",
              "  <svg xmlns=\"http://www.w3.org/2000/svg\" height=\"24px\"viewBox=\"0 0 24 24\"\n",
              "       width=\"24px\">\n",
              "    <path d=\"M0 0h24v24H0V0z\" fill=\"none\"/>\n",
              "    <path d=\"M18.56 5.44l.94 2.06.94-2.06 2.06-.94-2.06-.94-.94-2.06-.94 2.06-2.06.94zm-11 1L8.5 8.5l.94-2.06 2.06-.94-2.06-.94L8.5 2.5l-.94 2.06-2.06.94zm10 10l.94 2.06.94-2.06 2.06-.94-2.06-.94-.94-2.06-.94 2.06-2.06.94z\"/><path d=\"M17.41 7.96l-1.37-1.37c-.4-.4-.92-.59-1.43-.59-.52 0-1.04.2-1.43.59L10.3 9.45l-7.72 7.72c-.78.78-.78 2.05 0 2.83L4 21.41c.39.39.9.59 1.41.59.51 0 1.02-.2 1.41-.59l7.78-7.78 2.81-2.81c.8-.78.8-2.07 0-2.86zM5.41 20L4 18.59l7.72-7.72 1.47 1.35L5.41 20z\"/>\n",
              "  </svg>\n",
              "      </button>\n",
              "      \n",
              "  <style>\n",
              "    .colab-df-container {\n",
              "      display:flex;\n",
              "      flex-wrap:wrap;\n",
              "      gap: 12px;\n",
              "    }\n",
              "\n",
              "    .colab-df-convert {\n",
              "      background-color: #E8F0FE;\n",
              "      border: none;\n",
              "      border-radius: 50%;\n",
              "      cursor: pointer;\n",
              "      display: none;\n",
              "      fill: #1967D2;\n",
              "      height: 32px;\n",
              "      padding: 0 0 0 0;\n",
              "      width: 32px;\n",
              "    }\n",
              "\n",
              "    .colab-df-convert:hover {\n",
              "      background-color: #E2EBFA;\n",
              "      box-shadow: 0px 1px 2px rgba(60, 64, 67, 0.3), 0px 1px 3px 1px rgba(60, 64, 67, 0.15);\n",
              "      fill: #174EA6;\n",
              "    }\n",
              "\n",
              "    [theme=dark] .colab-df-convert {\n",
              "      background-color: #3B4455;\n",
              "      fill: #D2E3FC;\n",
              "    }\n",
              "\n",
              "    [theme=dark] .colab-df-convert:hover {\n",
              "      background-color: #434B5C;\n",
              "      box-shadow: 0px 1px 3px 1px rgba(0, 0, 0, 0.15);\n",
              "      filter: drop-shadow(0px 1px 2px rgba(0, 0, 0, 0.3));\n",
              "      fill: #FFFFFF;\n",
              "    }\n",
              "  </style>\n",
              "\n",
              "      <script>\n",
              "        const buttonEl =\n",
              "          document.querySelector('#df-e53f8fbd-cbbe-439a-8e1d-1cc84dbbb160 button.colab-df-convert');\n",
              "        buttonEl.style.display =\n",
              "          google.colab.kernel.accessAllowed ? 'block' : 'none';\n",
              "\n",
              "        async function convertToInteractive(key) {\n",
              "          const element = document.querySelector('#df-e53f8fbd-cbbe-439a-8e1d-1cc84dbbb160');\n",
              "          const dataTable =\n",
              "            await google.colab.kernel.invokeFunction('convertToInteractive',\n",
              "                                                     [key], {});\n",
              "          if (!dataTable) return;\n",
              "\n",
              "          const docLinkHtml = 'Like what you see? Visit the ' +\n",
              "            '<a target=\"_blank\" href=https://colab.research.google.com/notebooks/data_table.ipynb>data table notebook</a>'\n",
              "            + ' to learn more about interactive tables.';\n",
              "          element.innerHTML = '';\n",
              "          dataTable['output_type'] = 'display_data';\n",
              "          await google.colab.output.renderOutput(dataTable, element);\n",
              "          const docLink = document.createElement('div');\n",
              "          docLink.innerHTML = docLinkHtml;\n",
              "          element.appendChild(docLink);\n",
              "        }\n",
              "      </script>\n",
              "    </div>\n",
              "  </div>\n",
              "  "
            ]
          },
          "metadata": {},
          "execution_count": 4
        }
      ]
    },
    {
      "cell_type": "markdown",
      "metadata": {
        "id": "r1DNqwCLW0UQ"
      },
      "source": [
        "## Exploratory Data Analysis and Visualization"
      ]
    },
    {
      "cell_type": "markdown",
      "metadata": {
        "id": "D_O-lYffW0UR"
      },
      "source": [
        "1. Implement basic steps to see how is your data looks like\n",
        "2. Change the column name as \"Production\"\n",
        "2. Plot your data and see its seasonalty"
      ]
    },
    {
      "cell_type": "code",
      "metadata": {
        "id": "bYARJqkAW0US",
        "colab": {
          "base_uri": "https://localhost:8080/"
        },
        "outputId": "e791e822-51ac-4b7f-f8a9-c58a56ba1869"
      },
      "source": [
        "df.info()"
      ],
      "execution_count": 5,
      "outputs": [
        {
          "output_type": "stream",
          "name": "stdout",
          "text": [
            "<class 'pandas.core.frame.DataFrame'>\n",
            "DatetimeIndex: 573 entries, 1972-01-01 to 2019-09-01\n",
            "Data columns (total 1 columns):\n",
            " #   Column     Non-Null Count  Dtype  \n",
            "---  ------     --------------  -----  \n",
            " 0   IPN31152N  573 non-null    float64\n",
            "dtypes: float64(1)\n",
            "memory usage: 9.0 KB\n"
          ]
        }
      ]
    },
    {
      "cell_type": "code",
      "source": [
        "df.shape"
      ],
      "metadata": {
        "colab": {
          "base_uri": "https://localhost:8080/"
        },
        "id": "Z-yL6C7TP85k",
        "outputId": "a7ef8fa6-f0b3-4a74-8aea-b32cf9cfbf6e"
      },
      "execution_count": 22,
      "outputs": [
        {
          "output_type": "execute_result",
          "data": {
            "text/plain": [
              "(573, 1)"
            ]
          },
          "metadata": {},
          "execution_count": 22
        }
      ]
    },
    {
      "cell_type": "code",
      "source": [
        "df=df.rename(columns = {'IPN31152N':'Production'})"
      ],
      "metadata": {
        "id": "qrsWwguGQMBz"
      },
      "execution_count": 9,
      "outputs": []
    },
    {
      "cell_type": "code",
      "source": [
        "df"
      ],
      "metadata": {
        "colab": {
          "base_uri": "https://localhost:8080/",
          "height": 455
        },
        "id": "6bKgCRK2Qxxd",
        "outputId": "bb778910-5067-4955-9a2d-905e7ccfdcb7"
      },
      "execution_count": 16,
      "outputs": [
        {
          "output_type": "execute_result",
          "data": {
            "text/plain": [
              "            Production\n",
              "DATE                  \n",
              "1972-01-01      59.962\n",
              "1972-02-01      67.061\n",
              "1972-03-01      74.235\n",
              "1972-04-01      78.112\n",
              "1972-05-01      84.764\n",
              "...                ...\n",
              "2019-05-01     114.561\n",
              "2019-06-01     124.960\n",
              "2019-07-01     110.263\n",
              "2019-08-01     102.609\n",
              "2019-09-01     101.587\n",
              "\n",
              "[573 rows x 1 columns]"
            ],
            "text/html": [
              "\n",
              "  <div id=\"df-79fac381-eeab-44dd-a1ef-be3c0ad4098e\">\n",
              "    <div class=\"colab-df-container\">\n",
              "      <div>\n",
              "<style scoped>\n",
              "    .dataframe tbody tr th:only-of-type {\n",
              "        vertical-align: middle;\n",
              "    }\n",
              "\n",
              "    .dataframe tbody tr th {\n",
              "        vertical-align: top;\n",
              "    }\n",
              "\n",
              "    .dataframe thead th {\n",
              "        text-align: right;\n",
              "    }\n",
              "</style>\n",
              "<table border=\"1\" class=\"dataframe\">\n",
              "  <thead>\n",
              "    <tr style=\"text-align: right;\">\n",
              "      <th></th>\n",
              "      <th>Production</th>\n",
              "    </tr>\n",
              "    <tr>\n",
              "      <th>DATE</th>\n",
              "      <th></th>\n",
              "    </tr>\n",
              "  </thead>\n",
              "  <tbody>\n",
              "    <tr>\n",
              "      <th>1972-01-01</th>\n",
              "      <td>59.962</td>\n",
              "    </tr>\n",
              "    <tr>\n",
              "      <th>1972-02-01</th>\n",
              "      <td>67.061</td>\n",
              "    </tr>\n",
              "    <tr>\n",
              "      <th>1972-03-01</th>\n",
              "      <td>74.235</td>\n",
              "    </tr>\n",
              "    <tr>\n",
              "      <th>1972-04-01</th>\n",
              "      <td>78.112</td>\n",
              "    </tr>\n",
              "    <tr>\n",
              "      <th>1972-05-01</th>\n",
              "      <td>84.764</td>\n",
              "    </tr>\n",
              "    <tr>\n",
              "      <th>...</th>\n",
              "      <td>...</td>\n",
              "    </tr>\n",
              "    <tr>\n",
              "      <th>2019-05-01</th>\n",
              "      <td>114.561</td>\n",
              "    </tr>\n",
              "    <tr>\n",
              "      <th>2019-06-01</th>\n",
              "      <td>124.960</td>\n",
              "    </tr>\n",
              "    <tr>\n",
              "      <th>2019-07-01</th>\n",
              "      <td>110.263</td>\n",
              "    </tr>\n",
              "    <tr>\n",
              "      <th>2019-08-01</th>\n",
              "      <td>102.609</td>\n",
              "    </tr>\n",
              "    <tr>\n",
              "      <th>2019-09-01</th>\n",
              "      <td>101.587</td>\n",
              "    </tr>\n",
              "  </tbody>\n",
              "</table>\n",
              "<p>573 rows × 1 columns</p>\n",
              "</div>\n",
              "      <button class=\"colab-df-convert\" onclick=\"convertToInteractive('df-79fac381-eeab-44dd-a1ef-be3c0ad4098e')\"\n",
              "              title=\"Convert this dataframe to an interactive table.\"\n",
              "              style=\"display:none;\">\n",
              "        \n",
              "  <svg xmlns=\"http://www.w3.org/2000/svg\" height=\"24px\"viewBox=\"0 0 24 24\"\n",
              "       width=\"24px\">\n",
              "    <path d=\"M0 0h24v24H0V0z\" fill=\"none\"/>\n",
              "    <path d=\"M18.56 5.44l.94 2.06.94-2.06 2.06-.94-2.06-.94-.94-2.06-.94 2.06-2.06.94zm-11 1L8.5 8.5l.94-2.06 2.06-.94-2.06-.94L8.5 2.5l-.94 2.06-2.06.94zm10 10l.94 2.06.94-2.06 2.06-.94-2.06-.94-.94-2.06-.94 2.06-2.06.94z\"/><path d=\"M17.41 7.96l-1.37-1.37c-.4-.4-.92-.59-1.43-.59-.52 0-1.04.2-1.43.59L10.3 9.45l-7.72 7.72c-.78.78-.78 2.05 0 2.83L4 21.41c.39.39.9.59 1.41.59.51 0 1.02-.2 1.41-.59l7.78-7.78 2.81-2.81c.8-.78.8-2.07 0-2.86zM5.41 20L4 18.59l7.72-7.72 1.47 1.35L5.41 20z\"/>\n",
              "  </svg>\n",
              "      </button>\n",
              "      \n",
              "  <style>\n",
              "    .colab-df-container {\n",
              "      display:flex;\n",
              "      flex-wrap:wrap;\n",
              "      gap: 12px;\n",
              "    }\n",
              "\n",
              "    .colab-df-convert {\n",
              "      background-color: #E8F0FE;\n",
              "      border: none;\n",
              "      border-radius: 50%;\n",
              "      cursor: pointer;\n",
              "      display: none;\n",
              "      fill: #1967D2;\n",
              "      height: 32px;\n",
              "      padding: 0 0 0 0;\n",
              "      width: 32px;\n",
              "    }\n",
              "\n",
              "    .colab-df-convert:hover {\n",
              "      background-color: #E2EBFA;\n",
              "      box-shadow: 0px 1px 2px rgba(60, 64, 67, 0.3), 0px 1px 3px 1px rgba(60, 64, 67, 0.15);\n",
              "      fill: #174EA6;\n",
              "    }\n",
              "\n",
              "    [theme=dark] .colab-df-convert {\n",
              "      background-color: #3B4455;\n",
              "      fill: #D2E3FC;\n",
              "    }\n",
              "\n",
              "    [theme=dark] .colab-df-convert:hover {\n",
              "      background-color: #434B5C;\n",
              "      box-shadow: 0px 1px 3px 1px rgba(0, 0, 0, 0.15);\n",
              "      filter: drop-shadow(0px 1px 2px rgba(0, 0, 0, 0.3));\n",
              "      fill: #FFFFFF;\n",
              "    }\n",
              "  </style>\n",
              "\n",
              "      <script>\n",
              "        const buttonEl =\n",
              "          document.querySelector('#df-79fac381-eeab-44dd-a1ef-be3c0ad4098e button.colab-df-convert');\n",
              "        buttonEl.style.display =\n",
              "          google.colab.kernel.accessAllowed ? 'block' : 'none';\n",
              "\n",
              "        async function convertToInteractive(key) {\n",
              "          const element = document.querySelector('#df-79fac381-eeab-44dd-a1ef-be3c0ad4098e');\n",
              "          const dataTable =\n",
              "            await google.colab.kernel.invokeFunction('convertToInteractive',\n",
              "                                                     [key], {});\n",
              "          if (!dataTable) return;\n",
              "\n",
              "          const docLinkHtml = 'Like what you see? Visit the ' +\n",
              "            '<a target=\"_blank\" href=https://colab.research.google.com/notebooks/data_table.ipynb>data table notebook</a>'\n",
              "            + ' to learn more about interactive tables.';\n",
              "          element.innerHTML = '';\n",
              "          dataTable['output_type'] = 'display_data';\n",
              "          await google.colab.output.renderOutput(dataTable, element);\n",
              "          const docLink = document.createElement('div');\n",
              "          docLink.innerHTML = docLinkHtml;\n",
              "          element.appendChild(docLink);\n",
              "        }\n",
              "      </script>\n",
              "    </div>\n",
              "  </div>\n",
              "  "
            ]
          },
          "metadata": {},
          "execution_count": 16
        }
      ]
    },
    {
      "cell_type": "code",
      "source": [
        "plt.figure(figsize=(20,8))\n",
        "df.plot();"
      ],
      "metadata": {
        "colab": {
          "base_uri": "https://localhost:8080/",
          "height": 406
        },
        "id": "Z6BoeeVQQ4SK",
        "outputId": "041b222e-42d3-45d7-fda3-5d04b0afa331"
      },
      "execution_count": 21,
      "outputs": [
        {
          "output_type": "display_data",
          "data": {
            "text/plain": [
              "<Figure size 1440x576 with 0 Axes>"
            ]
          },
          "metadata": {}
        },
        {
          "output_type": "display_data",
          "data": {
            "text/plain": [
              "<Figure size 864x432 with 1 Axes>"
            ],
            "image/png": "[encoded data removed]"
          },
          "metadata": {}
        }
      ]
    },
    {
      "cell_type": "code",
      "source": [
        "sns.boxplot(df.Production)"
      ],
      "metadata": {
        "colab": {
          "base_uri": "https://localhost:8080/",
          "height": 406
        },
        "id": "lJn5ik8SSyWt",
        "outputId": "a8926a7c-a7f1-4014-f6be-574b515d8c32"
      },
      "execution_count": 32,
      "outputs": [
        {
          "output_type": "execute_result",
          "data": {
            "text/plain": [
              "<matplotlib.axes._subplots.AxesSubplot at 0x7ff3abe00410>"
            ]
          },
          "metadata": {},
          "execution_count": 32
        },
        {
          "output_type": "display_data",
          "data": {
            "text/plain": [
              "<Figure size 864x432 with 1 Axes>"
            ],
            "image/png": "[encoded data removed]"
          },
          "metadata": {}
        }
      ]
    },
    {
      "cell_type": "markdown",
      "metadata": {
        "id": "MFgtEy1_W0UT"
      },
      "source": [
        "## Preprocessing of Data"
      ]
    },
    {
      "cell_type": "markdown",
      "metadata": {
        "id": "ZHTMB-NaW0UU"
      },
      "source": [
        "### Train Test Split"
      ]
    },
    {
      "cell_type": "code",
      "metadata": {
        "id": "Zj1tmZDUW0UW",
        "colab": {
          "base_uri": "https://localhost:8080/"
        },
        "outputId": "5ba555a9-f596-4254-a61d-998b006767bc"
      },
      "source": [
        "len(df)"
      ],
      "execution_count": 24,
      "outputs": [
        {
          "output_type": "execute_result",
          "data": {
            "text/plain": [
              "573"
            ]
          },
          "metadata": {},
          "execution_count": 24
        }
      ]
    },
    {
      "cell_type": "code",
      "source": [
        "test_ind = 36"
      ],
      "metadata": {
        "id": "Ot7Ai1_bSEDa"
      },
      "execution_count": 27,
      "outputs": []
    },
    {
      "cell_type": "code",
      "source": [
        "train = df.iloc[:-test_ind]\n",
        "test = df.iloc[-test_ind:]"
      ],
      "metadata": {
        "id": "upDkhTDXSGhu"
      },
      "execution_count": 28,
      "outputs": []
    },
    {
      "cell_type": "code",
      "source": [
        "train.shape, test.shape"
      ],
      "metadata": {
        "colab": {
          "base_uri": "https://localhost:8080/"
        },
        "id": "0m5ZYKn6Skuq",
        "outputId": "7bee8fb2-3281-44a0-b2f8-de14c21480a9"
      },
      "execution_count": 29,
      "outputs": [
        {
          "output_type": "execute_result",
          "data": {
            "text/plain": [
              "((537, 1), (36, 1))"
            ]
          },
          "metadata": {},
          "execution_count": 29
        }
      ]
    },
    {
      "cell_type": "markdown",
      "metadata": {
        "id": "OhtBFsG_W0UW"
      },
      "source": [
        "### Scaling"
      ]
    },
    {
      "cell_type": "code",
      "metadata": {
        "id": "xUXr6jEwW0UX"
      },
      "source": [
        "from sklearn.preprocessing import MinMaxScaler, StandardScaler"
      ],
      "execution_count": 34,
      "outputs": []
    },
    {
      "cell_type": "code",
      "source": [
        "scaler = StandardScaler()"
      ],
      "metadata": {
        "id": "JwYiIz8GSsdm"
      },
      "execution_count": 35,
      "outputs": []
    },
    {
      "cell_type": "code",
      "source": [
        "train_scaled = scaler.fit_transform(train)\n",
        "test_scaled = scaler.transform(test)"
      ],
      "metadata": {
        "id": "DbJT5y4wTOAG"
      },
      "execution_count": 36,
      "outputs": []
    },
    {
      "cell_type": "markdown",
      "metadata": {
        "id": "mEr60eqqW0UX"
      },
      "source": [
        "## Time Series Generator"
      ]
    },
    {
      "cell_type": "code",
      "source": [
        "from tensorflow.keras.preprocessing.sequence import TimeseriesGenerator"
      ],
      "metadata": {
        "id": "tTfsHc3gT07z"
      },
      "execution_count": 39,
      "outputs": []
    },
    {
      "cell_type": "code",
      "metadata": {
        "id": "W7m1f77QW0UY"
      },
      "source": [
        "length = 12 # Length of the output sequences (in number of timesteps)\n",
        "batch_size = 1 #Number of timeseries samples in each batch  \n",
        "generator = TimeseriesGenerator(train_scaled, train_scaled, length=length, batch_size=batch_size)\n",
        "validation_generator = TimeseriesGenerator(test_scaled, test_scaled, length=length, batch_size=batch_size)"
      ],
      "execution_count": 40,
      "outputs": []
    },
    {
      "cell_type": "code",
      "source": [
        "len(train_scaled), len(generator), len(test_scaled), len(validation_generator)"
      ],
      "metadata": {
        "colab": {
          "base_uri": "https://localhost:8080/"
        },
        "id": "D2z3QtTdT8o7",
        "outputId": "2fd069e5-96e3-466f-c7cb-0e1bc3af5836"
      },
      "execution_count": 42,
      "outputs": [
        {
          "output_type": "execute_result",
          "data": {
            "text/plain": [
              "(537, 525, 36, 24)"
            ]
          },
          "metadata": {},
          "execution_count": 42
        }
      ]
    },
    {
      "cell_type": "markdown",
      "metadata": {
        "id": "GXs_mchzW0UY"
      },
      "source": [
        "## Modelling & Model Performance"
      ]
    },
    {
      "cell_type": "markdown",
      "metadata": {
        "id": "_nPVqM5JW0UY"
      },
      "source": [
        "### Import related libraries"
      ]
    },
    {
      "cell_type": "code",
      "metadata": {
        "id": "H0LrCgXjW0UZ"
      },
      "source": [
        "from tensorflow.keras.models import Sequential\n",
        "from tensorflow.keras.layers import Dense, LSTM, Bidirectional, Dropout\n",
        "from tensorflow.keras.callbacks import EarlyStopping"
      ],
      "execution_count": 41,
      "outputs": []
    },
    {
      "cell_type": "markdown",
      "metadata": {
        "id": "siUy9HKDW0UZ"
      },
      "source": [
        "### Creating Model"
      ]
    },
    {
      "cell_type": "markdown",
      "metadata": {
        "id": "MkaQEz-tW0Ua"
      },
      "source": [
        "### with \"tanh\" activation function"
      ]
    },
    {
      "cell_type": "code",
      "metadata": {
        "id": "AxESUUeiW0Ua",
        "colab": {
          "base_uri": "https://localhost:8080/"
        },
        "outputId": "4440182f-ea8e-45c9-a4a4-75c85fbec690"
      },
      "source": [
        "train_scaled.shape[1] # feature sayısı"
      ],
      "execution_count": 48,
      "outputs": [
        {
          "output_type": "execute_result",
          "data": {
            "text/plain": [
              "1"
            ]
          },
          "metadata": {},
          "execution_count": 48
        }
      ]
    },
    {
      "cell_type": "code",
      "source": [
        "n_features = train_scaled.shape[1]"
      ],
      "metadata": {
        "id": "Edz3pOhRUNBD"
      },
      "execution_count": 49,
      "outputs": []
    },
    {
      "cell_type": "code",
      "source": [
        "model = Sequential()\n",
        "\n",
        "model.add(LSTM(100,activation = 'tanh', return_sequences=True, input_shape=(length, n_features)))\n",
        "model.add(LSTM(50, activation = 'tanh'))\n",
        "model.add(Dense(n_features)) \n",
        "\n",
        "model.compile(optimizer='adam', loss='mse')"
      ],
      "metadata": {
        "id": "swTPGl9cUM-K"
      },
      "execution_count": 50,
      "outputs": []
    },
    {
      "cell_type": "code",
      "source": [
        "early_stop = EarlyStopping(monitor='val_loss',patience=10)"
      ],
      "metadata": {
        "id": "jnAEtPswUM4b"
      },
      "execution_count": 51,
      "outputs": []
    },
    {
      "cell_type": "code",
      "source": [
        "model.fit_generator(generator,\n",
        "                    epochs=100,\n",
        "                    validation_data=validation_generator,\n",
        "                    callbacks=[early_stop])"
      ],
      "metadata": {
        "colab": {
          "base_uri": "https://localhost:8080/"
        },
        "id": "t6iEUG6TUfu4",
        "outputId": "430fb46f-c8f1-4e83-e0be-9789152df371"
      },
      "execution_count": 52,
      "outputs": [
        {
          "output_type": "stream",
          "name": "stdout",
          "text": [
            "Epoch 1/100\n",
            "525/525 [==============================] - 12s 15ms/step - loss: 0.2527 - val_loss: 0.0516\n",
            "Epoch 2/100\n",
            "525/525 [==============================] - 7s 13ms/step - loss: 0.0860 - val_loss: 0.0555\n",
            "Epoch 3/100\n",
            "525/525 [==============================] - 6s 12ms/step - loss: 0.0783 - val_loss: 0.0541\n",
            "Epoch 4/100\n",
            "525/525 [==============================] - 7s 12ms/step - loss: 0.0741 - val_loss: 0.0518\n",
            "Epoch 5/100\n",
            "525/525 [==============================] - 7s 13ms/step - loss: 0.0635 - val_loss: 0.0472\n",
            "Epoch 6/100\n",
            "525/525 [==============================] - 8s 15ms/step - loss: 0.0651 - val_loss: 0.0368\n",
            "Epoch 7/100\n",
            "525/525 [==============================] - 8s 14ms/step - loss: 0.0594 - val_loss: 0.0382\n",
            "Epoch 8/100\n",
            "525/525 [==============================] - 9s 18ms/step - loss: 0.0551 - val_loss: 0.0850\n",
            "Epoch 9/100\n",
            "525/525 [==============================] - 11s 21ms/step - loss: 0.0564 - val_loss: 0.0422\n",
            "Epoch 10/100\n",
            "525/525 [==============================] - 9s 18ms/step - loss: 0.0499 - val_loss: 0.0615\n",
            "Epoch 11/100\n",
            "525/525 [==============================] - 12s 22ms/step - loss: 0.0503 - val_loss: 0.0402\n",
            "Epoch 12/100\n",
            "525/525 [==============================] - 10s 19ms/step - loss: 0.0533 - val_loss: 0.0381\n",
            "Epoch 13/100\n",
            "525/525 [==============================] - 9s 17ms/step - loss: 0.0477 - val_loss: 0.0362\n",
            "Epoch 14/100\n",
            "525/525 [==============================] - 9s 18ms/step - loss: 0.0480 - val_loss: 0.0486\n",
            "Epoch 15/100\n",
            "525/525 [==============================] - 8s 15ms/step - loss: 0.0449 - val_loss: 0.0358\n",
            "Epoch 16/100\n",
            "525/525 [==============================] - 10s 19ms/step - loss: 0.0450 - val_loss: 0.0378\n",
            "Epoch 17/100\n",
            "525/525 [==============================] - 9s 18ms/step - loss: 0.0424 - val_loss: 0.0330\n",
            "Epoch 18/100\n",
            "525/525 [==============================] - 7s 13ms/step - loss: 0.0423 - val_loss: 0.0364\n",
            "Epoch 19/100\n",
            "525/525 [==============================] - 6s 12ms/step - loss: 0.0423 - val_loss: 0.0295\n",
            "Epoch 20/100\n",
            "525/525 [==============================] - 7s 13ms/step - loss: 0.0356 - val_loss: 0.0426\n",
            "Epoch 21/100\n",
            "525/525 [==============================] - 7s 13ms/step - loss: 0.0384 - val_loss: 0.0351\n",
            "Epoch 22/100\n",
            "525/525 [==============================] - 6s 12ms/step - loss: 0.0389 - val_loss: 0.0420\n",
            "Epoch 23/100\n",
            "525/525 [==============================] - 6s 12ms/step - loss: 0.0363 - val_loss: 0.0281\n",
            "Epoch 24/100\n",
            "525/525 [==============================] - 6s 12ms/step - loss: 0.0378 - val_loss: 0.0369\n",
            "Epoch 25/100\n",
            "525/525 [==============================] - 6s 12ms/step - loss: 0.0337 - val_loss: 0.0318\n",
            "Epoch 26/100\n",
            "525/525 [==============================] - 6s 12ms/step - loss: 0.0345 - val_loss: 0.0446\n",
            "Epoch 27/100\n",
            "525/525 [==============================] - 7s 13ms/step - loss: 0.0343 - val_loss: 0.0276\n",
            "Epoch 28/100\n",
            "525/525 [==============================] - 7s 13ms/step - loss: 0.0337 - val_loss: 0.0265\n",
            "Epoch 29/100\n",
            "525/525 [==============================] - 8s 15ms/step - loss: 0.0343 - val_loss: 0.0334\n",
            "Epoch 30/100\n",
            "525/525 [==============================] - 10s 19ms/step - loss: 0.0306 - val_loss: 0.0299\n",
            "Epoch 31/100\n",
            "525/525 [==============================] - 7s 13ms/step - loss: 0.0322 - val_loss: 0.0252\n",
            "Epoch 32/100\n",
            "525/525 [==============================] - 9s 18ms/step - loss: 0.0320 - val_loss: 0.0253\n",
            "Epoch 33/100\n",
            "525/525 [==============================] - 6s 12ms/step - loss: 0.0317 - val_loss: 0.0398\n",
            "Epoch 34/100\n",
            "525/525 [==============================] - 7s 13ms/step - loss: 0.0297 - val_loss: 0.0412\n",
            "Epoch 35/100\n",
            "525/525 [==============================] - 7s 14ms/step - loss: 0.0272 - val_loss: 0.0411\n",
            "Epoch 36/100\n",
            "525/525 [==============================] - 7s 14ms/step - loss: 0.0273 - val_loss: 0.0219\n",
            "Epoch 37/100\n",
            "525/525 [==============================] - 11s 21ms/step - loss: 0.0262 - val_loss: 0.0241\n",
            "Epoch 38/100\n",
            "525/525 [==============================] - 7s 12ms/step - loss: 0.0282 - val_loss: 0.0250\n",
            "Epoch 39/100\n",
            "525/525 [==============================] - 7s 13ms/step - loss: 0.0276 - val_loss: 0.0334\n",
            "Epoch 40/100\n",
            "525/525 [==============================] - 7s 13ms/step - loss: 0.0259 - val_loss: 0.0257\n",
            "Epoch 41/100\n",
            "525/525 [==============================] - 8s 14ms/step - loss: 0.0258 - val_loss: 0.0196\n",
            "Epoch 42/100\n",
            "525/525 [==============================] - 6s 12ms/step - loss: 0.0240 - val_loss: 0.0219\n",
            "Epoch 43/100\n",
            "525/525 [==============================] - 11s 21ms/step - loss: 0.0275 - val_loss: 0.0224\n",
            "Epoch 44/100\n",
            "525/525 [==============================] - 6s 12ms/step - loss: 0.0228 - val_loss: 0.0256\n",
            "Epoch 45/100\n",
            "525/525 [==============================] - 6s 12ms/step - loss: 0.0238 - val_loss: 0.0328\n",
            "Epoch 46/100\n",
            "525/525 [==============================] - 6s 11ms/step - loss: 0.0249 - val_loss: 0.0260\n",
            "Epoch 47/100\n",
            "525/525 [==============================] - 6s 12ms/step - loss: 0.0253 - val_loss: 0.0219\n",
            "Epoch 48/100\n",
            "525/525 [==============================] - 7s 13ms/step - loss: 0.0222 - val_loss: 0.0277\n",
            "Epoch 49/100\n",
            "525/525 [==============================] - 6s 12ms/step - loss: 0.0261 - val_loss: 0.0200\n",
            "Epoch 50/100\n",
            "525/525 [==============================] - 6s 12ms/step - loss: 0.0207 - val_loss: 0.0187\n",
            "Epoch 51/100\n",
            "525/525 [==============================] - 6s 12ms/step - loss: 0.0233 - val_loss: 0.0227\n",
            "Epoch 52/100\n",
            "525/525 [==============================] - 6s 12ms/step - loss: 0.0206 - val_loss: 0.0215\n",
            "Epoch 53/100\n",
            "525/525 [==============================] - 6s 12ms/step - loss: 0.0215 - val_loss: 0.0175\n",
            "Epoch 54/100\n",
            "525/525 [==============================] - 6s 12ms/step - loss: 0.0204 - val_loss: 0.0184\n",
            "Epoch 55/100\n",
            "525/525 [==============================] - 6s 11ms/step - loss: 0.0210 - val_loss: 0.0201\n",
            "Epoch 56/100\n",
            "525/525 [==============================] - 7s 12ms/step - loss: 0.0199 - val_loss: 0.0279\n",
            "Epoch 57/100\n",
            "525/525 [==============================] - 7s 12ms/step - loss: 0.0187 - val_loss: 0.0194\n",
            "Epoch 58/100\n",
            "525/525 [==============================] - 6s 11ms/step - loss: 0.0204 - val_loss: 0.0252\n",
            "Epoch 59/100\n",
            "525/525 [==============================] - 7s 13ms/step - loss: 0.0198 - val_loss: 0.0253\n",
            "Epoch 60/100\n",
            "525/525 [==============================] - 7s 12ms/step - loss: 0.0180 - val_loss: 0.0232\n",
            "Epoch 61/100\n",
            "525/525 [==============================] - 7s 12ms/step - loss: 0.0183 - val_loss: 0.0210\n",
            "Epoch 62/100\n",
            "525/525 [==============================] - 6s 12ms/step - loss: 0.0172 - val_loss: 0.0270\n",
            "Epoch 63/100\n",
            "525/525 [==============================] - 7s 13ms/step - loss: 0.0166 - val_loss: 0.0212\n"
          ]
        },
        {
          "output_type": "execute_result",
          "data": {
            "text/plain": [
              "<keras.callbacks.History at 0x7ff33ed40210>"
            ]
          },
          "metadata": {},
          "execution_count": 52
        }
      ]
    },
    {
      "cell_type": "markdown",
      "metadata": {
        "id": "oa_VzNmpW0Ua"
      },
      "source": [
        "#### Evaluate on Test Data"
      ]
    },
    {
      "cell_type": "code",
      "metadata": {
        "id": "Bhvrnix7W0Ub"
      },
      "source": [
        "from sklearn.metrics import mean_absolute_error, mean_squared_error, r2_score"
      ],
      "execution_count": 53,
      "outputs": []
    },
    {
      "cell_type": "code",
      "source": [
        "def eval_metrics(actual, pred):\n",
        "    rmse = np.sqrt(mean_squared_error(actual, pred))\n",
        "    mae = mean_absolute_error(actual, pred)\n",
        "    mse = mean_squared_error(actual, pred)\n",
        "    score = r2_score(actual, pred)\n",
        "    return print(\"r2_score:\", score, \"\\nmae:\", mae, \"\\nmse:\",mse, \"\\nrmse:\",rmse)"
      ],
      "metadata": {
        "id": "hijX683EWDLA"
      },
      "execution_count": 54,
      "outputs": []
    },
    {
      "cell_type": "code",
      "source": [
        "predictions_scaled = []\n",
        "\n",
        "first_eval_batch = train_scaled[-length:]\n",
        "current_batch = first_eval_batch.reshape((1, length, n_features))\n",
        "\n",
        "for i in range(length):\n",
        "    \n",
        "    # get prediction 1 time stamp ahead\n",
        "    current_pred = model.predict(current_batch)\n",
        "    \n",
        "    # store prediction\n",
        "    predictions_scaled.append(current_pred[0]) \n",
        "    \n",
        "    # update batch to now include prediction and drop first value\n",
        "    current_batch = np.append(current_batch[:, 1:, :], [current_pred], axis=1)"
      ],
      "metadata": {
        "id": "fSYyH5euWDHv"
      },
      "execution_count": 55,
      "outputs": []
    },
    {
      "cell_type": "code",
      "source": [
        "predictions_scaled"
      ],
      "metadata": {
        "colab": {
          "base_uri": "https://localhost:8080/"
        },
        "id": "cObQECVaWIVS",
        "outputId": "7a36daac-5469-47d0-b3ed-795905114230"
      },
      "execution_count": 56,
      "outputs": [
        {
          "output_type": "execute_result",
          "data": {
            "text/plain": [
              "[array([-0.45827758], dtype=float32),\n",
              " array([-0.7774402], dtype=float32),\n",
              " array([-1.0626984], dtype=float32),\n",
              " array([-0.65094453], dtype=float32),\n",
              " array([-0.08309519], dtype=float32),\n",
              " array([0.33437413], dtype=float32),\n",
              " array([0.5269375], dtype=float32),\n",
              " array([0.6011926], dtype=float32),\n",
              " array([1.0184458], dtype=float32),\n",
              " array([0.81809634], dtype=float32),\n",
              " array([0.70715743], dtype=float32),\n",
              " array([0.32700843], dtype=float32)]"
            ]
          },
          "metadata": {},
          "execution_count": 56
        }
      ]
    },
    {
      "cell_type": "code",
      "source": [
        "eval_metrics(test_scaled[:length], predictions_scaled)"
      ],
      "metadata": {
        "colab": {
          "base_uri": "https://localhost:8080/"
        },
        "id": "UKLPvBtfWIJb",
        "outputId": "c6dcff0b-1653-4b8b-a313-b70e3876a9b0"
      },
      "execution_count": 57,
      "outputs": [
        {
          "output_type": "stream",
          "name": "stdout",
          "text": [
            "r2_score: 0.32849085710807646 \n",
            "mae: 0.2930229722518474 \n",
            "mse: 0.15604662594478272 \n",
            "rmse: 0.3950273736651458\n"
          ]
        }
      ]
    },
    {
      "cell_type": "markdown",
      "metadata": {
        "id": "uiuwaoCZW0Ub"
      },
      "source": [
        "#### Inverse Transformations and Comparing"
      ]
    },
    {
      "cell_type": "code",
      "metadata": {
        "id": "jCKSgQrxW0Uc"
      },
      "source": [
        "predictions = scaler.inverse_transform(predictions_scaled)"
      ],
      "execution_count": 58,
      "outputs": []
    },
    {
      "cell_type": "code",
      "source": [
        "compare = test[:12]"
      ],
      "metadata": {
        "id": "y7mmurwaWQJ6"
      },
      "execution_count": 61,
      "outputs": []
    },
    {
      "cell_type": "code",
      "source": [
        "compare['Predictions'] = predictions\n",
        "compare"
      ],
      "metadata": {
        "colab": {
          "base_uri": "https://localhost:8080/",
          "height": 457
        },
        "id": "qFWe0rQ3WQG6",
        "outputId": "d31e859a-7e38-4019-ceef-6d5322b337ee"
      },
      "execution_count": 62,
      "outputs": [
        {
          "output_type": "execute_result",
          "data": {
            "text/plain": [
              "            Production  Predictions\n",
              "DATE                               \n",
              "2016-10-01     101.384       97.254\n",
              "2016-11-01      86.665       88.145\n",
              "2016-12-01      81.257       80.004\n",
              "2017-01-01      94.245       91.755\n",
              "2017-02-01     112.388      107.961\n",
              "2017-03-01     119.698      119.876\n",
              "2017-04-01     123.228      125.371\n",
              "2017-05-01     116.064      127.491\n",
              "2017-06-01     123.087      139.399\n",
              "2017-07-01     116.264      133.681\n",
              "2017-08-01     113.172      130.515\n",
              "2017-09-01      97.912      119.665"
            ],
            "text/html": [
              "\n",
              "  <div id=\"df-ff3a2174-ee7b-4f03-8f95-fa96e14032d4\">\n",
              "    <div class=\"colab-df-container\">\n",
              "      <div>\n",
              "<style scoped>\n",
              "    .dataframe tbody tr th:only-of-type {\n",
              "        vertical-align: middle;\n",
              "    }\n",
              "\n",
              "    .dataframe tbody tr th {\n",
              "        vertical-align: top;\n",
              "    }\n",
              "\n",
              "    .dataframe thead th {\n",
              "        text-align: right;\n",
              "    }\n",
              "</style>\n",
              "<table border=\"1\" class=\"dataframe\">\n",
              "  <thead>\n",
              "    <tr style=\"text-align: right;\">\n",
              "      <th></th>\n",
              "      <th>Production</th>\n",
              "      <th>Predictions</th>\n",
              "    </tr>\n",
              "    <tr>\n",
              "      <th>DATE</th>\n",
              "      <th></th>\n",
              "      <th></th>\n",
              "    </tr>\n",
              "  </thead>\n",
              "  <tbody>\n",
              "    <tr>\n",
              "      <th>2016-10-01</th>\n",
              "      <td>101.384</td>\n",
              "      <td>97.254</td>\n",
              "    </tr>\n",
              "    <tr>\n",
              "      <th>2016-11-01</th>\n",
              "      <td>86.665</td>\n",
              "      <td>88.145</td>\n",
              "    </tr>\n",
              "    <tr>\n",
              "      <th>2016-12-01</th>\n",
              "      <td>81.257</td>\n",
              "      <td>80.004</td>\n",
              "    </tr>\n",
              "    <tr>\n",
              "      <th>2017-01-01</th>\n",
              "      <td>94.245</td>\n",
              "      <td>91.755</td>\n",
              "    </tr>\n",
              "    <tr>\n",
              "      <th>2017-02-01</th>\n",
              "      <td>112.388</td>\n",
              "      <td>107.961</td>\n",
              "    </tr>\n",
              "    <tr>\n",
              "      <th>2017-03-01</th>\n",
              "      <td>119.698</td>\n",
              "      <td>119.876</td>\n",
              "    </tr>\n",
              "    <tr>\n",
              "      <th>2017-04-01</th>\n",
              "      <td>123.228</td>\n",
              "      <td>125.371</td>\n",
              "    </tr>\n",
              "    <tr>\n",
              "      <th>2017-05-01</th>\n",
              "      <td>116.064</td>\n",
              "      <td>127.491</td>\n",
              "    </tr>\n",
              "    <tr>\n",
              "      <th>2017-06-01</th>\n",
              "      <td>123.087</td>\n",
              "      <td>139.399</td>\n",
              "    </tr>\n",
              "    <tr>\n",
              "      <th>2017-07-01</th>\n",
              "      <td>116.264</td>\n",
              "      <td>133.681</td>\n",
              "    </tr>\n",
              "    <tr>\n",
              "      <th>2017-08-01</th>\n",
              "      <td>113.172</td>\n",
              "      <td>130.515</td>\n",
              "    </tr>\n",
              "    <tr>\n",
              "      <th>2017-09-01</th>\n",
              "      <td>97.912</td>\n",
              "      <td>119.665</td>\n",
              "    </tr>\n",
              "  </tbody>\n",
              "</table>\n",
              "</div>\n",
              "      <button class=\"colab-df-convert\" onclick=\"convertToInteractive('df-ff3a2174-ee7b-4f03-8f95-fa96e14032d4')\"\n",
              "              title=\"Convert this dataframe to an interactive table.\"\n",
              "              style=\"display:none;\">\n",
              "        \n",
              "  <svg xmlns=\"http://www.w3.org/2000/svg\" height=\"24px\"viewBox=\"0 0 24 24\"\n",
              "       width=\"24px\">\n",
              "    <path d=\"M0 0h24v24H0V0z\" fill=\"none\"/>\n",
              "    <path d=\"M18.56 5.44l.94 2.06.94-2.06 2.06-.94-2.06-.94-.94-2.06-.94 2.06-2.06.94zm-11 1L8.5 8.5l.94-2.06 2.06-.94-2.06-.94L8.5 2.5l-.94 2.06-2.06.94zm10 10l.94 2.06.94-2.06 2.06-.94-2.06-.94-.94-2.06-.94 2.06-2.06.94z\"/><path d=\"M17.41 7.96l-1.37-1.37c-.4-.4-.92-.59-1.43-.59-.52 0-1.04.2-1.43.59L10.3 9.45l-7.72 7.72c-.78.78-.78 2.05 0 2.83L4 21.41c.39.39.9.59 1.41.59.51 0 1.02-.2 1.41-.59l7.78-7.78 2.81-2.81c.8-.78.8-2.07 0-2.86zM5.41 20L4 18.59l7.72-7.72 1.47 1.35L5.41 20z\"/>\n",
              "  </svg>\n",
              "      </button>\n",
              "      \n",
              "  <style>\n",
              "    .colab-df-container {\n",
              "      display:flex;\n",
              "      flex-wrap:wrap;\n",
              "      gap: 12px;\n",
              "    }\n",
              "\n",
              "    .colab-df-convert {\n",
              "      background-color: #E8F0FE;\n",
              "      border: none;\n",
              "      border-radius: 50%;\n",
              "      cursor: pointer;\n",
              "      display: none;\n",
              "      fill: #1967D2;\n",
              "      height: 32px;\n",
              "      padding: 0 0 0 0;\n",
              "      width: 32px;\n",
              "    }\n",
              "\n",
              "    .colab-df-convert:hover {\n",
              "      background-color: #E2EBFA;\n",
              "      box-shadow: 0px 1px 2px rgba(60, 64, 67, 0.3), 0px 1px 3px 1px rgba(60, 64, 67, 0.15);\n",
              "      fill: #174EA6;\n",
              "    }\n",
              "\n",
              "    [theme=dark] .colab-df-convert {\n",
              "      background-color: #3B4455;\n",
              "      fill: #D2E3FC;\n",
              "    }\n",
              "\n",
              "    [theme=dark] .colab-df-convert:hover {\n",
              "      background-color: #434B5C;\n",
              "      box-shadow: 0px 1px 3px 1px rgba(0, 0, 0, 0.15);\n",
              "      filter: drop-shadow(0px 1px 2px rgba(0, 0, 0, 0.3));\n",
              "      fill: #FFFFFF;\n",
              "    }\n",
              "  </style>\n",
              "\n",
              "      <script>\n",
              "        const buttonEl =\n",
              "          document.querySelector('#df-ff3a2174-ee7b-4f03-8f95-fa96e14032d4 button.colab-df-convert');\n",
              "        buttonEl.style.display =\n",
              "          google.colab.kernel.accessAllowed ? 'block' : 'none';\n",
              "\n",
              "        async function convertToInteractive(key) {\n",
              "          const element = document.querySelector('#df-ff3a2174-ee7b-4f03-8f95-fa96e14032d4');\n",
              "          const dataTable =\n",
              "            await google.colab.kernel.invokeFunction('convertToInteractive',\n",
              "                                                     [key], {});\n",
              "          if (!dataTable) return;\n",
              "\n",
              "          const docLinkHtml = 'Like what you see? Visit the ' +\n",
              "            '<a target=\"_blank\" href=https://colab.research.google.com/notebooks/data_table.ipynb>data table notebook</a>'\n",
              "            + ' to learn more about interactive tables.';\n",
              "          element.innerHTML = '';\n",
              "          dataTable['output_type'] = 'display_data';\n",
              "          await google.colab.output.renderOutput(dataTable, element);\n",
              "          const docLink = document.createElement('div');\n",
              "          docLink.innerHTML = docLinkHtml;\n",
              "          element.appendChild(docLink);\n",
              "        }\n",
              "      </script>\n",
              "    </div>\n",
              "  </div>\n",
              "  "
            ]
          },
          "metadata": {},
          "execution_count": 62
        }
      ]
    },
    {
      "cell_type": "code",
      "source": [
        "compare.plot()"
      ],
      "metadata": {
        "colab": {
          "base_uri": "https://localhost:8080/",
          "height": 418
        },
        "id": "MMjL5XNvWWLm",
        "outputId": "23c1a8f8-1360-43fd-d898-ef08e57db0a7"
      },
      "execution_count": 63,
      "outputs": [
        {
          "output_type": "execute_result",
          "data": {
            "text/plain": [
              "<matplotlib.axes._subplots.AxesSubplot at 0x7ff33b7b5f10>"
            ]
          },
          "metadata": {},
          "execution_count": 63
        },
        {
          "output_type": "display_data",
          "data": {
            "text/plain": [
              "<Figure size 864x432 with 1 Axes>"
            ],
            "image/png": "[encoded data removed]"
          },
          "metadata": {}
        }
      ]
    },
    {
      "cell_type": "markdown",
      "metadata": {
        "id": "8LWk7fR2W0Uc"
      },
      "source": [
        "#### Calculation R2 Score and Error Metrics"
      ]
    },
    {
      "cell_type": "code",
      "metadata": {
        "id": "6NL6kGVpW0Uc",
        "colab": {
          "base_uri": "https://localhost:8080/"
        },
        "outputId": "426474b4-9819-48c8-f871-61a31ad5eb5d"
      },
      "source": [
        "eval_metrics(compare.Production, compare.Predictions)"
      ],
      "execution_count": 64,
      "outputs": [
        {
          "output_type": "stream",
          "name": "stdout",
          "text": [
            "r2_score: 0.3284908571080766 \n",
            "mae: 8.362820502854076 \n",
            "mse: 127.10323224683457 \n",
            "rmse: 11.27400692951865\n"
          ]
        }
      ]
    },
    {
      "cell_type": "markdown",
      "metadata": {
        "id": "AeWZTdyPW0Ud"
      },
      "source": [
        "### with \"relu\" activation function"
      ]
    },
    {
      "cell_type": "code",
      "metadata": {
        "id": "lrlNA3cIW0Ud"
      },
      "source": [
        "model = Sequential()\n",
        "\n",
        "model.add(LSTM(100,activation = 'relu', return_sequences=True, input_shape=(length, n_features)))\n",
        "model.add(LSTM(50, activation = 'relu'))\n",
        "model.add(Dense(n_features)) \n",
        "\n",
        "model.compile(optimizer='adam', loss='mse')"
      ],
      "execution_count": 65,
      "outputs": []
    },
    {
      "cell_type": "code",
      "source": [
        "model.fit_generator(generator,\n",
        "                    epochs=50,\n",
        "                    validation_data=validation_generator,\n",
        "                    callbacks=[early_stop])"
      ],
      "metadata": {
        "colab": {
          "base_uri": "https://localhost:8080/"
        },
        "id": "Z-AHi0_FW9ck",
        "outputId": "6ccc4a7f-7f76-4f0c-91d3-d6dd6e90e42b"
      },
      "execution_count": 66,
      "outputs": [
        {
          "output_type": "stream",
          "name": "stdout",
          "text": [
            "Epoch 1/50\n",
            "525/525 [==============================] - 10s 13ms/step - loss: 0.5106 - val_loss: 0.1735\n",
            "Epoch 2/50\n",
            "525/525 [==============================] - 6s 12ms/step - loss: 0.1693 - val_loss: 0.0760\n",
            "Epoch 3/50\n",
            "525/525 [==============================] - 6s 11ms/step - loss: 0.1448 - val_loss: 0.0405\n",
            "Epoch 4/50\n",
            "525/525 [==============================] - 5s 10ms/step - loss: 0.1207 - val_loss: 0.0519\n",
            "Epoch 5/50\n",
            "525/525 [==============================] - 6s 11ms/step - loss: 0.1063 - val_loss: 0.0472\n",
            "Epoch 6/50\n",
            "525/525 [==============================] - 6s 11ms/step - loss: 0.1032 - val_loss: 0.0530\n",
            "Epoch 7/50\n",
            "525/525 [==============================] - 5s 10ms/step - loss: 0.0931 - val_loss: 0.0531\n",
            "Epoch 8/50\n",
            "525/525 [==============================] - 6s 12ms/step - loss: 0.0816 - val_loss: 0.0696\n",
            "Epoch 9/50\n",
            "525/525 [==============================] - 6s 11ms/step - loss: 0.0802 - val_loss: 0.0510\n",
            "Epoch 10/50\n",
            "525/525 [==============================] - 6s 12ms/step - loss: 0.0784 - val_loss: 0.0453\n",
            "Epoch 11/50\n",
            "525/525 [==============================] - 5s 10ms/step - loss: 0.0684 - val_loss: 0.0438\n",
            "Epoch 12/50\n",
            "525/525 [==============================] - 6s 11ms/step - loss: 0.0674 - val_loss: 0.0424\n",
            "Epoch 13/50\n",
            "525/525 [==============================] - 6s 11ms/step - loss: 0.0663 - val_loss: 0.0691\n"
          ]
        },
        {
          "output_type": "execute_result",
          "data": {
            "text/plain": [
              "<keras.callbacks.History at 0x7ff33b6f8710>"
            ]
          },
          "metadata": {},
          "execution_count": 66
        }
      ]
    },
    {
      "cell_type": "markdown",
      "metadata": {
        "id": "UEwhDIzzW0Ud"
      },
      "source": [
        "#### Evaluate on Test Data"
      ]
    },
    {
      "cell_type": "code",
      "metadata": {
        "id": "sEIphpveW0Ud"
      },
      "source": [
        "def eval_metrics(actual, pred):\n",
        "    rmse = np.sqrt(mean_squared_error(actual, pred))\n",
        "    mae = mean_absolute_error(actual, pred)\n",
        "    mse = mean_squared_error(actual, pred)\n",
        "    score = r2_score(actual, pred)\n",
        "    return print(\"r2_score:\", score, \"\\nmae:\", mae, \"\\nmse:\",mse, \"\\nrmse:\",rmse)"
      ],
      "execution_count": 67,
      "outputs": []
    },
    {
      "cell_type": "code",
      "source": [
        "predictions_scaled = []\n",
        "\n",
        "first_eval_batch = train_scaled[-length:]\n",
        "current_batch = first_eval_batch.reshape((1, length, n_features))\n",
        "\n",
        "for i in range(length):\n",
        "    \n",
        "    # get prediction 1 time stamp ahead\n",
        "    current_pred = model.predict(current_batch)\n",
        "    \n",
        "    # store prediction\n",
        "    predictions_scaled.append(current_pred[0]) \n",
        "    \n",
        "    # update batch to now include prediction and drop first value\n",
        "    current_batch = np.append(current_batch[:, 1:, :], [current_pred], axis=1)"
      ],
      "metadata": {
        "id": "A7EH6W7pXZ5E"
      },
      "execution_count": 68,
      "outputs": []
    },
    {
      "cell_type": "code",
      "source": [
        "predictions_scaled"
      ],
      "metadata": {
        "colab": {
          "base_uri": "https://localhost:8080/"
        },
        "id": "fJ5PW1IPdBxU",
        "outputId": "acb7778f-ef6e-4686-b6c0-741af0af0d34"
      },
      "execution_count": 69,
      "outputs": [
        {
          "output_type": "execute_result",
          "data": {
            "text/plain": [
              "[array([-0.47410992], dtype=float32),\n",
              " array([-0.83807904], dtype=float32),\n",
              " array([-1.0063941], dtype=float32),\n",
              " array([-0.6081631], dtype=float32),\n",
              " array([-0.17628443], dtype=float32),\n",
              " array([0.20033163], dtype=float32),\n",
              " array([0.4695726], dtype=float32),\n",
              " array([0.6772713], dtype=float32),\n",
              " array([0.88335145], dtype=float32),\n",
              " array([0.97434795], dtype=float32),\n",
              " array([0.84992146], dtype=float32),\n",
              " array([0.42220265], dtype=float32)]"
            ]
          },
          "metadata": {},
          "execution_count": 69
        }
      ]
    },
    {
      "cell_type": "code",
      "source": [
        "eval_metrics(test_scaled[:length], predictions_scaled)"
      ],
      "metadata": {
        "colab": {
          "base_uri": "https://localhost:8080/"
        },
        "id": "cjVy4hWRdHB8",
        "outputId": "c540bdd3-8214-4ab5-9c60-3a093c3827b6"
      },
      "execution_count": 70,
      "outputs": [
        {
          "output_type": "stream",
          "name": "stdout",
          "text": [
            "r2_score: 0.1358817524721544 \n",
            "mae: 0.3256116617450611 \n",
            "mse: 0.20080551154273893 \n",
            "rmse: 0.4481132798107404\n"
          ]
        }
      ]
    },
    {
      "cell_type": "markdown",
      "metadata": {
        "id": "P17_vbkUW0Ue"
      },
      "source": [
        "#### Inverse Transformations and Comparing"
      ]
    },
    {
      "cell_type": "code",
      "metadata": {
        "id": "v-M3v-GIW0Ue"
      },
      "source": [
        "predictions = scaler.inverse_transform(predictions_scaled)"
      ],
      "execution_count": 71,
      "outputs": []
    },
    {
      "cell_type": "code",
      "source": [
        "compare = test[:12]"
      ],
      "metadata": {
        "id": "YpHsISuZdXxn"
      },
      "execution_count": 72,
      "outputs": []
    },
    {
      "cell_type": "code",
      "source": [
        "compare['Predictions'] = predictions\n",
        "compare"
      ],
      "metadata": {
        "colab": {
          "base_uri": "https://localhost:8080/",
          "height": 457
        },
        "id": "KQNYpnx9dXuw",
        "outputId": "2ac75481-da34-43c5-8e6c-709e815de714"
      },
      "execution_count": 73,
      "outputs": [
        {
          "output_type": "execute_result",
          "data": {
            "text/plain": [
              "            Production  Predictions\n",
              "DATE                               \n",
              "2016-10-01     101.384       96.802\n",
              "2016-11-01      86.665       86.414\n",
              "2016-12-01      81.257       81.610\n",
              "2017-01-01      94.245       92.976\n",
              "2017-02-01     112.388      105.302\n",
              "2017-03-01     119.698      116.050\n",
              "2017-04-01     123.228      123.734\n",
              "2017-05-01     116.064      129.662\n",
              "2017-06-01     123.087      135.543\n",
              "2017-07-01     116.264      138.140\n",
              "2017-08-01     113.172      134.589\n",
              "2017-09-01      97.912      122.382"
            ],
            "text/html": [
              "\n",
              "  <div id=\"df-1734a229-df68-421b-a25a-345a3082ef8f\">\n",
              "    <div class=\"colab-df-container\">\n",
              "      <div>\n",
              "<style scoped>\n",
              "    .dataframe tbody tr th:only-of-type {\n",
              "        vertical-align: middle;\n",
              "    }\n",
              "\n",
              "    .dataframe tbody tr th {\n",
              "        vertical-align: top;\n",
              "    }\n",
              "\n",
              "    .dataframe thead th {\n",
              "        text-align: right;\n",
              "    }\n",
              "</style>\n",
              "<table border=\"1\" class=\"dataframe\">\n",
              "  <thead>\n",
              "    <tr style=\"text-align: right;\">\n",
              "      <th></th>\n",
              "      <th>Production</th>\n",
              "      <th>Predictions</th>\n",
              "    </tr>\n",
              "    <tr>\n",
              "      <th>DATE</th>\n",
              "      <th></th>\n",
              "      <th></th>\n",
              "    </tr>\n",
              "  </thead>\n",
              "  <tbody>\n",
              "    <tr>\n",
              "      <th>2016-10-01</th>\n",
              "      <td>101.384</td>\n",
              "      <td>96.802</td>\n",
              "    </tr>\n",
              "    <tr>\n",
              "      <th>2016-11-01</th>\n",
              "      <td>86.665</td>\n",
              "      <td>86.414</td>\n",
              "    </tr>\n",
              "    <tr>\n",
              "      <th>2016-12-01</th>\n",
              "      <td>81.257</td>\n",
              "      <td>81.610</td>\n",
              "    </tr>\n",
              "    <tr>\n",
              "      <th>2017-01-01</th>\n",
              "      <td>94.245</td>\n",
              "      <td>92.976</td>\n",
              "    </tr>\n",
              "    <tr>\n",
              "      <th>2017-02-01</th>\n",
              "      <td>112.388</td>\n",
              "      <td>105.302</td>\n",
              "    </tr>\n",
              "    <tr>\n",
              "      <th>2017-03-01</th>\n",
              "      <td>119.698</td>\n",
              "      <td>116.050</td>\n",
              "    </tr>\n",
              "    <tr>\n",
              "      <th>2017-04-01</th>\n",
              "      <td>123.228</td>\n",
              "      <td>123.734</td>\n",
              "    </tr>\n",
              "    <tr>\n",
              "      <th>2017-05-01</th>\n",
              "      <td>116.064</td>\n",
              "      <td>129.662</td>\n",
              "    </tr>\n",
              "    <tr>\n",
              "      <th>2017-06-01</th>\n",
              "      <td>123.087</td>\n",
              "      <td>135.543</td>\n",
              "    </tr>\n",
              "    <tr>\n",
              "      <th>2017-07-01</th>\n",
              "      <td>116.264</td>\n",
              "      <td>138.140</td>\n",
              "    </tr>\n",
              "    <tr>\n",
              "      <th>2017-08-01</th>\n",
              "      <td>113.172</td>\n",
              "      <td>134.589</td>\n",
              "    </tr>\n",
              "    <tr>\n",
              "      <th>2017-09-01</th>\n",
              "      <td>97.912</td>\n",
              "      <td>122.382</td>\n",
              "    </tr>\n",
              "  </tbody>\n",
              "</table>\n",
              "</div>\n",
              "      <button class=\"colab-df-convert\" onclick=\"convertToInteractive('df-1734a229-df68-421b-a25a-345a3082ef8f')\"\n",
              "              title=\"Convert this dataframe to an interactive table.\"\n",
              "              style=\"display:none;\">\n",
              "        \n",
              "  <svg xmlns=\"http://www.w3.org/2000/svg\" height=\"24px\"viewBox=\"0 0 24 24\"\n",
              "       width=\"24px\">\n",
              "    <path d=\"M0 0h24v24H0V0z\" fill=\"none\"/>\n",
              "    <path d=\"M18.56 5.44l.94 2.06.94-2.06 2.06-.94-2.06-.94-.94-2.06-.94 2.06-2.06.94zm-11 1L8.5 8.5l.94-2.06 2.06-.94-2.06-.94L8.5 2.5l-.94 2.06-2.06.94zm10 10l.94 2.06.94-2.06 2.06-.94-2.06-.94-.94-2.06-.94 2.06-2.06.94z\"/><path d=\"M17.41 7.96l-1.37-1.37c-.4-.4-.92-.59-1.43-.59-.52 0-1.04.2-1.43.59L10.3 9.45l-7.72 7.72c-.78.78-.78 2.05 0 2.83L4 21.41c.39.39.9.59 1.41.59.51 0 1.02-.2 1.41-.59l7.78-7.78 2.81-2.81c.8-.78.8-2.07 0-2.86zM5.41 20L4 18.59l7.72-7.72 1.47 1.35L5.41 20z\"/>\n",
              "  </svg>\n",
              "      </button>\n",
              "      \n",
              "  <style>\n",
              "    .colab-df-container {\n",
              "      display:flex;\n",
              "      flex-wrap:wrap;\n",
              "      gap: 12px;\n",
              "    }\n",
              "\n",
              "    .colab-df-convert {\n",
              "      background-color: #E8F0FE;\n",
              "      border: none;\n",
              "      border-radius: 50%;\n",
              "      cursor: pointer;\n",
              "      display: none;\n",
              "      fill: #1967D2;\n",
              "      height: 32px;\n",
              "      padding: 0 0 0 0;\n",
              "      width: 32px;\n",
              "    }\n",
              "\n",
              "    .colab-df-convert:hover {\n",
              "      background-color: #E2EBFA;\n",
              "      box-shadow: 0px 1px 2px rgba(60, 64, 67, 0.3), 0px 1px 3px 1px rgba(60, 64, 67, 0.15);\n",
              "      fill: #174EA6;\n",
              "    }\n",
              "\n",
              "    [theme=dark] .colab-df-convert {\n",
              "      background-color: #3B4455;\n",
              "      fill: #D2E3FC;\n",
              "    }\n",
              "\n",
              "    [theme=dark] .colab-df-convert:hover {\n",
              "      background-color: #434B5C;\n",
              "      box-shadow: 0px 1px 3px 1px rgba(0, 0, 0, 0.15);\n",
              "      filter: drop-shadow(0px 1px 2px rgba(0, 0, 0, 0.3));\n",
              "      fill: #FFFFFF;\n",
              "    }\n",
              "  </style>\n",
              "\n",
              "      <script>\n",
              "        const buttonEl =\n",
              "          document.querySelector('#df-1734a229-df68-421b-a25a-345a3082ef8f button.colab-df-convert');\n",
              "        buttonEl.style.display =\n",
              "          google.colab.kernel.accessAllowed ? 'block' : 'none';\n",
              "\n",
              "        async function convertToInteractive(key) {\n",
              "          const element = document.querySelector('#df-1734a229-df68-421b-a25a-345a3082ef8f');\n",
              "          const dataTable =\n",
              "            await google.colab.kernel.invokeFunction('convertToInteractive',\n",
              "                                                     [key], {});\n",
              "          if (!dataTable) return;\n",
              "\n",
              "          const docLinkHtml = 'Like what you see? Visit the ' +\n",
              "            '<a target=\"_blank\" href=https://colab.research.google.com/notebooks/data_table.ipynb>data table notebook</a>'\n",
              "            + ' to learn more about interactive tables.';\n",
              "          element.innerHTML = '';\n",
              "          dataTable['output_type'] = 'display_data';\n",
              "          await google.colab.output.renderOutput(dataTable, element);\n",
              "          const docLink = document.createElement('div');\n",
              "          docLink.innerHTML = docLinkHtml;\n",
              "          element.appendChild(docLink);\n",
              "        }\n",
              "      </script>\n",
              "    </div>\n",
              "  </div>\n",
              "  "
            ]
          },
          "metadata": {},
          "execution_count": 73
        }
      ]
    },
    {
      "cell_type": "code",
      "source": [
        "compare.plot()"
      ],
      "metadata": {
        "colab": {
          "base_uri": "https://localhost:8080/",
          "height": 418
        },
        "id": "ITFBWZHLdmqN",
        "outputId": "948d57ba-94d9-475f-87b2-3672cda0064b"
      },
      "execution_count": 74,
      "outputs": [
        {
          "output_type": "execute_result",
          "data": {
            "text/plain": [
              "<matplotlib.axes._subplots.AxesSubplot at 0x7ff33a008150>"
            ]
          },
          "metadata": {},
          "execution_count": 74
        },
        {
          "output_type": "display_data",
          "data": {
            "text/plain": [
              "<Figure size 864x432 with 1 Axes>"
            ],
            "image/png": "[encoded data removed]"
          },
          "metadata": {}
        }
      ]
    },
    {
      "cell_type": "markdown",
      "metadata": {
        "id": "y2YxA_sTW0Ue"
      },
      "source": [
        "#### Calculation R2 Score and Error Metrics"
      ]
    },
    {
      "cell_type": "code",
      "metadata": {
        "id": "biBzyA-dW0Uf",
        "colab": {
          "base_uri": "https://localhost:8080/"
        },
        "outputId": "697d4f60-2f39-4b64-9fb8-6ff3da407ac5"
      },
      "source": [
        "eval_metrics(compare.Production, compare.Predictions)"
      ],
      "execution_count": 75,
      "outputs": [
        {
          "output_type": "stream",
          "name": "stdout",
          "text": [
            "r2_score: 0.13588175247215406 \n",
            "mae: 9.292895570213492 \n",
            "mse: 163.5602783176647 \n",
            "rmse: 12.789068704079462\n"
          ]
        }
      ]
    },
    {
      "cell_type": "markdown",
      "metadata": {
        "collapsed": true,
        "id": "d7iS01PhW0Uf"
      },
      "source": [
        "## Retrain and Forecasting\n",
        "\n",
        "Select activation function providing a better score, create your final model with full data, forecast for the next 12 months, and plot this forecast."
      ]
    },
    {
      "cell_type": "code",
      "metadata": {
        "id": "c5xKyE39W0Uf"
      },
      "source": [
        "full_scaler = StandardScaler()\n",
        "scaled_full_data = full_scaler.fit_transform(df)"
      ],
      "execution_count": 76,
      "outputs": []
    },
    {
      "cell_type": "code",
      "source": [
        "generator = TimeseriesGenerator(scaled_full_data, scaled_full_data, length = length, batch_size = batch_size)"
      ],
      "metadata": {
        "id": "8ZpPT0DweGOJ"
      },
      "execution_count": 77,
      "outputs": []
    },
    {
      "cell_type": "code",
      "source": [
        "len(df), len(generator)"
      ],
      "metadata": {
        "colab": {
          "base_uri": "https://localhost:8080/"
        },
        "id": "UflHUJFjeGLy",
        "outputId": "a7ab41a0-9581-421b-df8f-831729bf2e4c"
      },
      "execution_count": 78,
      "outputs": [
        {
          "output_type": "execute_result",
          "data": {
            "text/plain": [
              "(573, 561)"
            ]
          },
          "metadata": {},
          "execution_count": 78
        }
      ]
    },
    {
      "cell_type": "code",
      "source": [
        "model = Sequential()\n",
        "model.add(LSTM(100, activation = 'tanh', return_sequences=True, input_shape = (length, n_features)))\n",
        "model.add(LSTM(50, activation = 'tanh'))\n",
        "model.add(Dense(1))\n",
        "model.compile(optimizer = 'adam', loss = 'mse')\n",
        "\n",
        "model.fit_generator(generator, epochs=50)"
      ],
      "metadata": {
        "colab": {
          "base_uri": "https://localhost:8080/"
        },
        "id": "jIKz5D52eGJG",
        "outputId": "baf4fbaa-81c7-4674-abc1-4a4a6189c6cb"
      },
      "execution_count": 79,
      "outputs": [
        {
          "output_type": "stream",
          "name": "stdout",
          "text": [
            "Epoch 1/50\n",
            "561/561 [==============================] - 12s 14ms/step - loss: 0.3095\n",
            "Epoch 2/50\n",
            "561/561 [==============================] - 6s 11ms/step - loss: 0.1011\n",
            "Epoch 3/50\n",
            "561/561 [==============================] - 9s 15ms/step - loss: 0.0799\n",
            "Epoch 4/50\n",
            "561/561 [==============================] - 7s 12ms/step - loss: 0.0725\n",
            "Epoch 5/50\n",
            "561/561 [==============================] - 7s 12ms/step - loss: 0.0627\n",
            "Epoch 6/50\n",
            "561/561 [==============================] - 8s 15ms/step - loss: 0.0708\n",
            "Epoch 7/50\n",
            "561/561 [==============================] - 10s 17ms/step - loss: 0.0606\n",
            "Epoch 8/50\n",
            "561/561 [==============================] - 10s 18ms/step - loss: 0.0562\n",
            "Epoch 9/50\n",
            "561/561 [==============================] - 11s 19ms/step - loss: 0.0534\n",
            "Epoch 10/50\n",
            "561/561 [==============================] - 9s 16ms/step - loss: 0.0532\n",
            "Epoch 11/50\n",
            "561/561 [==============================] - 10s 18ms/step - loss: 0.0493\n",
            "Epoch 12/50\n",
            "561/561 [==============================] - 10s 17ms/step - loss: 0.0518\n",
            "Epoch 13/50\n",
            "561/561 [==============================] - 9s 17ms/step - loss: 0.0516\n",
            "Epoch 14/50\n",
            "561/561 [==============================] - 6s 11ms/step - loss: 0.0504\n",
            "Epoch 15/50\n",
            "561/561 [==============================] - 7s 13ms/step - loss: 0.0481\n",
            "Epoch 16/50\n",
            "561/561 [==============================] - 7s 12ms/step - loss: 0.0497\n",
            "Epoch 17/50\n",
            "561/561 [==============================] - 7s 13ms/step - loss: 0.0476\n",
            "Epoch 18/50\n",
            "561/561 [==============================] - 7s 12ms/step - loss: 0.0420\n",
            "Epoch 19/50\n",
            "561/561 [==============================] - 7s 12ms/step - loss: 0.0464\n",
            "Epoch 20/50\n",
            "561/561 [==============================] - 7s 12ms/step - loss: 0.0414\n",
            "Epoch 21/50\n",
            "561/561 [==============================] - 10s 18ms/step - loss: 0.0366\n",
            "Epoch 22/50\n",
            "561/561 [==============================] - 6s 11ms/step - loss: 0.0413\n",
            "Epoch 23/50\n",
            "561/561 [==============================] - 6s 12ms/step - loss: 0.0407\n",
            "Epoch 24/50\n",
            "561/561 [==============================] - 7s 12ms/step - loss: 0.0344\n",
            "Epoch 25/50\n",
            "561/561 [==============================] - 7s 13ms/step - loss: 0.0373\n",
            "Epoch 26/50\n",
            "561/561 [==============================] - 7s 12ms/step - loss: 0.0348\n",
            "Epoch 27/50\n",
            "561/561 [==============================] - 7s 12ms/step - loss: 0.0359\n",
            "Epoch 28/50\n",
            "561/561 [==============================] - 7s 12ms/step - loss: 0.0341\n",
            "Epoch 29/50\n",
            "561/561 [==============================] - 7s 12ms/step - loss: 0.0330\n",
            "Epoch 30/50\n",
            "561/561 [==============================] - 7s 12ms/step - loss: 0.0328\n",
            "Epoch 31/50\n",
            "561/561 [==============================] - 7s 12ms/step - loss: 0.0324\n",
            "Epoch 32/50\n",
            "561/561 [==============================] - 8s 13ms/step - loss: 0.0306\n",
            "Epoch 33/50\n",
            "561/561 [==============================] - 7s 12ms/step - loss: 0.0308\n",
            "Epoch 34/50\n",
            "561/561 [==============================] - 7s 12ms/step - loss: 0.0319\n",
            "Epoch 35/50\n",
            "561/561 [==============================] - 6s 11ms/step - loss: 0.0312\n",
            "Epoch 36/50\n",
            "561/561 [==============================] - 7s 12ms/step - loss: 0.0325\n",
            "Epoch 37/50\n",
            "561/561 [==============================] - 7s 12ms/step - loss: 0.0297\n",
            "Epoch 38/50\n",
            "561/561 [==============================] - 7s 12ms/step - loss: 0.0280\n",
            "Epoch 39/50\n",
            "561/561 [==============================] - 6s 11ms/step - loss: 0.0279\n",
            "Epoch 40/50\n",
            "561/561 [==============================] - 7s 12ms/step - loss: 0.0283\n",
            "Epoch 41/50\n",
            "561/561 [==============================] - 6s 11ms/step - loss: 0.0269\n",
            "Epoch 42/50\n",
            "561/561 [==============================] - 6s 11ms/step - loss: 0.0268\n",
            "Epoch 43/50\n",
            "561/561 [==============================] - 6s 11ms/step - loss: 0.0262\n",
            "Epoch 44/50\n",
            "561/561 [==============================] - 7s 12ms/step - loss: 0.0258\n",
            "Epoch 45/50\n",
            "561/561 [==============================] - 7s 12ms/step - loss: 0.0247\n",
            "Epoch 46/50\n",
            "561/561 [==============================] - 7s 12ms/step - loss: 0.0250\n",
            "Epoch 47/50\n",
            "561/561 [==============================] - 7s 13ms/step - loss: 0.0237\n",
            "Epoch 48/50\n",
            "561/561 [==============================] - 7s 12ms/step - loss: 0.0244\n",
            "Epoch 49/50\n",
            "561/561 [==============================] - 7s 12ms/step - loss: 0.0226\n",
            "Epoch 50/50\n",
            "561/561 [==============================] - 7s 12ms/step - loss: 0.0249\n"
          ]
        },
        {
          "output_type": "execute_result",
          "data": {
            "text/plain": [
              "<keras.callbacks.History at 0x7ff339e64590>"
            ]
          },
          "metadata": {},
          "execution_count": 79
        }
      ]
    },
    {
      "cell_type": "code",
      "source": [
        "scaled_full_data.shape"
      ],
      "metadata": {
        "colab": {
          "base_uri": "https://localhost:8080/"
        },
        "id": "jKgz56feedpA",
        "outputId": "fb2e74b7-4321-49a0-91f0-4046ce9e738e"
      },
      "execution_count": 81,
      "outputs": [
        {
          "output_type": "execute_result",
          "data": {
            "text/plain": [
              "(573, 1)"
            ]
          },
          "metadata": {},
          "execution_count": 81
        }
      ]
    },
    {
      "cell_type": "code",
      "source": [
        "scaled_full_data[-length:].shape"
      ],
      "metadata": {
        "colab": {
          "base_uri": "https://localhost:8080/"
        },
        "id": "PQ06u7Needmr",
        "outputId": "46c4ea63-2aec-4884-c637-21e840f8d11a"
      },
      "execution_count": 82,
      "outputs": [
        {
          "output_type": "execute_result",
          "data": {
            "text/plain": [
              "(12, 1)"
            ]
          },
          "metadata": {},
          "execution_count": 82
        }
      ]
    },
    {
      "cell_type": "code",
      "source": [
        "forecast = []\n",
        "# Replace periods with whatever forecast length you want\n",
        "\n",
        "first_eval_batch = scaled_full_data[-length:]\n",
        "current_batch = first_eval_batch.reshape((1, length, n_features))\n",
        "\n",
        "for i in range(3*length):\n",
        "    \n",
        "    # get prediction 1 time stamp ahead ([0] is for grabbing just the number instead of [array])\n",
        "    current_pred = model.predict(current_batch)\n",
        "    \n",
        "    # store prediction\n",
        "    forecast.append(current_pred[0]) \n",
        "    \n",
        "    # update batch to now include prediction and drop first value\n",
        "    current_batch = np.append(current_batch[:, 1:, :], [current_pred], axis = 1)"
      ],
      "metadata": {
        "id": "Liddcd_KedkC"
      },
      "execution_count": 93,
      "outputs": []
    },
    {
      "cell_type": "code",
      "source": [
        "forecast = scaler.inverse_transform(forecast)"
      ],
      "metadata": {
        "id": "gkNTXUf0edhU"
      },
      "execution_count": 94,
      "outputs": []
    },
    {
      "cell_type": "code",
      "source": [
        "forecast"
      ],
      "metadata": {
        "colab": {
          "base_uri": "https://localhost:8080/"
        },
        "id": "n1kC1u6gemRK",
        "outputId": "7e980064-3890-482f-90dc-1d7efcc434ca"
      },
      "execution_count": 95,
      "outputs": [
        {
          "output_type": "execute_result",
          "data": {
            "text/plain": [
              "array([[ 91.60961343],\n",
              "       [ 83.28061889],\n",
              "       [ 73.92105221],\n",
              "       [ 89.57051376],\n",
              "       [105.63513687],\n",
              "       [119.60212358],\n",
              "       [127.1151302 ],\n",
              "       [131.19867441],\n",
              "       [132.23460845],\n",
              "       [119.57295983],\n",
              "       [110.01273118],\n",
              "       [ 99.24133849],\n",
              "       [ 90.98408467],\n",
              "       [ 83.87976181],\n",
              "       [ 76.64222538],\n",
              "       [ 93.04040463],\n",
              "       [109.1684458 ],\n",
              "       [117.09552146],\n",
              "       [123.07364071],\n",
              "       [133.938638  ],\n",
              "       [128.66477933],\n",
              "       [119.81039756],\n",
              "       [108.2014227 ],\n",
              "       [ 97.67385667],\n",
              "       [ 89.67315335],\n",
              "       [ 82.57087351],\n",
              "       [ 76.87415068],\n",
              "       [ 95.23404122],\n",
              "       [111.12955873],\n",
              "       [119.47619245],\n",
              "       [124.56360486],\n",
              "       [138.00786061],\n",
              "       [128.12771996],\n",
              "       [119.83587331],\n",
              "       [107.10123579],\n",
              "       [ 96.7161922 ]])"
            ]
          },
          "metadata": {},
          "execution_count": 95
        }
      ]
    },
    {
      "cell_type": "code",
      "source": [
        "df"
      ],
      "metadata": {
        "colab": {
          "base_uri": "https://localhost:8080/",
          "height": 455
        },
        "id": "oFsvF0dQemIp",
        "outputId": "7c211600-c1eb-47fb-c6f4-a1bb6b3bbe33"
      },
      "execution_count": 96,
      "outputs": [
        {
          "output_type": "execute_result",
          "data": {
            "text/plain": [
              "            Production\n",
              "DATE                  \n",
              "1972-01-01      59.962\n",
              "1972-02-01      67.061\n",
              "1972-03-01      74.235\n",
              "1972-04-01      78.112\n",
              "1972-05-01      84.764\n",
              "...                ...\n",
              "2019-05-01     114.561\n",
              "2019-06-01     124.960\n",
              "2019-07-01     110.263\n",
              "2019-08-01     102.609\n",
              "2019-09-01     101.587\n",
              "\n",
              "[573 rows x 1 columns]"
            ],
            "text/html": [
              "\n",
              "  <div id=\"df-d5977e95-1bc7-4f77-a53b-652c012cd48b\">\n",
              "    <div class=\"colab-df-container\">\n",
              "      <div>\n",
              "<style scoped>\n",
              "    .dataframe tbody tr th:only-of-type {\n",
              "        vertical-align: middle;\n",
              "    }\n",
              "\n",
              "    .dataframe tbody tr th {\n",
              "        vertical-align: top;\n",
              "    }\n",
              "\n",
              "    .dataframe thead th {\n",
              "        text-align: right;\n",
              "    }\n",
              "</style>\n",
              "<table border=\"1\" class=\"dataframe\">\n",
              "  <thead>\n",
              "    <tr style=\"text-align: right;\">\n",
              "      <th></th>\n",
              "      <th>Production</th>\n",
              "    </tr>\n",
              "    <tr>\n",
              "      <th>DATE</th>\n",
              "      <th></th>\n",
              "    </tr>\n",
              "  </thead>\n",
              "  <tbody>\n",
              "    <tr>\n",
              "      <th>1972-01-01</th>\n",
              "      <td>59.962</td>\n",
              "    </tr>\n",
              "    <tr>\n",
              "      <th>1972-02-01</th>\n",
              "      <td>67.061</td>\n",
              "    </tr>\n",
              "    <tr>\n",
              "      <th>1972-03-01</th>\n",
              "      <td>74.235</td>\n",
              "    </tr>\n",
              "    <tr>\n",
              "      <th>1972-04-01</th>\n",
              "      <td>78.112</td>\n",
              "    </tr>\n",
              "    <tr>\n",
              "      <th>1972-05-01</th>\n",
              "      <td>84.764</td>\n",
              "    </tr>\n",
              "    <tr>\n",
              "      <th>...</th>\n",
              "      <td>...</td>\n",
              "    </tr>\n",
              "    <tr>\n",
              "      <th>2019-05-01</th>\n",
              "      <td>114.561</td>\n",
              "    </tr>\n",
              "    <tr>\n",
              "      <th>2019-06-01</th>\n",
              "      <td>124.960</td>\n",
              "    </tr>\n",
              "    <tr>\n",
              "      <th>2019-07-01</th>\n",
              "      <td>110.263</td>\n",
              "    </tr>\n",
              "    <tr>\n",
              "      <th>2019-08-01</th>\n",
              "      <td>102.609</td>\n",
              "    </tr>\n",
              "    <tr>\n",
              "      <th>2019-09-01</th>\n",
              "      <td>101.587</td>\n",
              "    </tr>\n",
              "  </tbody>\n",
              "</table>\n",
              "<p>573 rows × 1 columns</p>\n",
              "</div>\n",
              "      <button class=\"colab-df-convert\" onclick=\"convertToInteractive('df-d5977e95-1bc7-4f77-a53b-652c012cd48b')\"\n",
              "              title=\"Convert this dataframe to an interactive table.\"\n",
              "              style=\"display:none;\">\n",
              "        \n",
              "  <svg xmlns=\"http://www.w3.org/2000/svg\" height=\"24px\"viewBox=\"0 0 24 24\"\n",
              "       width=\"24px\">\n",
              "    <path d=\"M0 0h24v24H0V0z\" fill=\"none\"/>\n",
              "    <path d=\"M18.56 5.44l.94 2.06.94-2.06 2.06-.94-2.06-.94-.94-2.06-.94 2.06-2.06.94zm-11 1L8.5 8.5l.94-2.06 2.06-.94-2.06-.94L8.5 2.5l-.94 2.06-2.06.94zm10 10l.94 2.06.94-2.06 2.06-.94-2.06-.94-.94-2.06-.94 2.06-2.06.94z\"/><path d=\"M17.41 7.96l-1.37-1.37c-.4-.4-.92-.59-1.43-.59-.52 0-1.04.2-1.43.59L10.3 9.45l-7.72 7.72c-.78.78-.78 2.05 0 2.83L4 21.41c.39.39.9.59 1.41.59.51 0 1.02-.2 1.41-.59l7.78-7.78 2.81-2.81c.8-.78.8-2.07 0-2.86zM5.41 20L4 18.59l7.72-7.72 1.47 1.35L5.41 20z\"/>\n",
              "  </svg>\n",
              "      </button>\n",
              "      \n",
              "  <style>\n",
              "    .colab-df-container {\n",
              "      display:flex;\n",
              "      flex-wrap:wrap;\n",
              "      gap: 12px;\n",
              "    }\n",
              "\n",
              "    .colab-df-convert {\n",
              "      background-color: #E8F0FE;\n",
              "      border: none;\n",
              "      border-radius: 50%;\n",
              "      cursor: pointer;\n",
              "      display: none;\n",
              "      fill: #1967D2;\n",
              "      height: 32px;\n",
              "      padding: 0 0 0 0;\n",
              "      width: 32px;\n",
              "    }\n",
              "\n",
              "    .colab-df-convert:hover {\n",
              "      background-color: #E2EBFA;\n",
              "      box-shadow: 0px 1px 2px rgba(60, 64, 67, 0.3), 0px 1px 3px 1px rgba(60, 64, 67, 0.15);\n",
              "      fill: #174EA6;\n",
              "    }\n",
              "\n",
              "    [theme=dark] .colab-df-convert {\n",
              "      background-color: #3B4455;\n",
              "      fill: #D2E3FC;\n",
              "    }\n",
              "\n",
              "    [theme=dark] .colab-df-convert:hover {\n",
              "      background-color: #434B5C;\n",
              "      box-shadow: 0px 1px 3px 1px rgba(0, 0, 0, 0.15);\n",
              "      filter: drop-shadow(0px 1px 2px rgba(0, 0, 0, 0.3));\n",
              "      fill: #FFFFFF;\n",
              "    }\n",
              "  </style>\n",
              "\n",
              "      <script>\n",
              "        const buttonEl =\n",
              "          document.querySelector('#df-d5977e95-1bc7-4f77-a53b-652c012cd48b button.colab-df-convert');\n",
              "        buttonEl.style.display =\n",
              "          google.colab.kernel.accessAllowed ? 'block' : 'none';\n",
              "\n",
              "        async function convertToInteractive(key) {\n",
              "          const element = document.querySelector('#df-d5977e95-1bc7-4f77-a53b-652c012cd48b');\n",
              "          const dataTable =\n",
              "            await google.colab.kernel.invokeFunction('convertToInteractive',\n",
              "                                                     [key], {});\n",
              "          if (!dataTable) return;\n",
              "\n",
              "          const docLinkHtml = 'Like what you see? Visit the ' +\n",
              "            '<a target=\"_blank\" href=https://colab.research.google.com/notebooks/data_table.ipynb>data table notebook</a>'\n",
              "            + ' to learn more about interactive tables.';\n",
              "          element.innerHTML = '';\n",
              "          dataTable['output_type'] = 'display_data';\n",
              "          await google.colab.output.renderOutput(dataTable, element);\n",
              "          const docLink = document.createElement('div');\n",
              "          docLink.innerHTML = docLinkHtml;\n",
              "          element.appendChild(docLink);\n",
              "        }\n",
              "      </script>\n",
              "    </div>\n",
              "  </div>\n",
              "  "
            ]
          },
          "metadata": {},
          "execution_count": 96
        }
      ]
    },
    {
      "cell_type": "code",
      "source": [
        "forecast_index = pd.date_range(start = '2019-10-01', periods = 3*length, freq = 'MS')"
      ],
      "metadata": {
        "id": "-AaLxGiVemFJ"
      },
      "execution_count": 99,
      "outputs": []
    },
    {
      "cell_type": "code",
      "source": [
        "forecast_index"
      ],
      "metadata": {
        "colab": {
          "base_uri": "https://localhost:8080/"
        },
        "id": "qFOw2YcGeu8O",
        "outputId": "67319b61-2b0d-44c2-8918-db39da2f9d1d"
      },
      "execution_count": 100,
      "outputs": [
        {
          "output_type": "execute_result",
          "data": {
            "text/plain": [
              "DatetimeIndex(['2019-10-01', '2019-11-01', '2019-12-01', '2020-01-01',\n",
              "               '2020-02-01', '2020-03-01', '2020-04-01', '2020-05-01',\n",
              "               '2020-06-01', '2020-07-01', '2020-08-01', '2020-09-01',\n",
              "               '2020-10-01', '2020-11-01', '2020-12-01', '2021-01-01',\n",
              "               '2021-02-01', '2021-03-01', '2021-04-01', '2021-05-01',\n",
              "               '2021-06-01', '2021-07-01', '2021-08-01', '2021-09-01',\n",
              "               '2021-10-01', '2021-11-01', '2021-12-01', '2022-01-01',\n",
              "               '2022-02-01', '2022-03-01', '2022-04-01', '2022-05-01',\n",
              "               '2022-06-01', '2022-07-01', '2022-08-01', '2022-09-01'],\n",
              "              dtype='datetime64[ns]', freq='MS')"
            ]
          },
          "metadata": {},
          "execution_count": 100
        }
      ]
    },
    {
      "cell_type": "code",
      "source": [
        "forecast_df = pd.DataFrame(data = forecast, index = forecast_index, columns = ['Forecast'])"
      ],
      "metadata": {
        "id": "F_VouCOBewmJ"
      },
      "execution_count": 101,
      "outputs": []
    },
    {
      "cell_type": "code",
      "source": [
        "forecast_df"
      ],
      "metadata": {
        "colab": {
          "base_uri": "https://localhost:8080/",
          "height": 1000
        },
        "id": "enZ1AbsIex4z",
        "outputId": "04c02a24-2edd-40e9-c592-1105a2a4363e"
      },
      "execution_count": 102,
      "outputs": [
        {
          "output_type": "execute_result",
          "data": {
            "text/plain": [
              "            Forecast\n",
              "2019-10-01    91.610\n",
              "2019-11-01    83.281\n",
              "2019-12-01    73.921\n",
              "2020-01-01    89.571\n",
              "2020-02-01   105.635\n",
              "2020-03-01   119.602\n",
              "2020-04-01   127.115\n",
              "2020-05-01   131.199\n",
              "2020-06-01   132.235\n",
              "2020-07-01   119.573\n",
              "2020-08-01   110.013\n",
              "2020-09-01    99.241\n",
              "2020-10-01    90.984\n",
              "2020-11-01    83.880\n",
              "2020-12-01    76.642\n",
              "2021-01-01    93.040\n",
              "2021-02-01   109.168\n",
              "2021-03-01   117.096\n",
              "2021-04-01   123.074\n",
              "2021-05-01   133.939\n",
              "2021-06-01   128.665\n",
              "2021-07-01   119.810\n",
              "2021-08-01   108.201\n",
              "2021-09-01    97.674\n",
              "2021-10-01    89.673\n",
              "2021-11-01    82.571\n",
              "2021-12-01    76.874\n",
              "2022-01-01    95.234\n",
              "2022-02-01   111.130\n",
              "2022-03-01   119.476\n",
              "2022-04-01   124.564\n",
              "2022-05-01   138.008\n",
              "2022-06-01   128.128\n",
              "2022-07-01   119.836\n",
              "2022-08-01   107.101\n",
              "2022-09-01    96.716"
            ],
            "text/html": [
              "\n",
              "  <div id=\"df-25206410-12c9-44db-b7a6-4a594087a85c\">\n",
              "    <div class=\"colab-df-container\">\n",
              "      <div>\n",
              "<style scoped>\n",
              "    .dataframe tbody tr th:only-of-type {\n",
              "        vertical-align: middle;\n",
              "    }\n",
              "\n",
              "    .dataframe tbody tr th {\n",
              "        vertical-align: top;\n",
              "    }\n",
              "\n",
              "    .dataframe thead th {\n",
              "        text-align: right;\n",
              "    }\n",
              "</style>\n",
              "<table border=\"1\" class=\"dataframe\">\n",
              "  <thead>\n",
              "    <tr style=\"text-align: right;\">\n",
              "      <th></th>\n",
              "      <th>Forecast</th>\n",
              "    </tr>\n",
              "  </thead>\n",
              "  <tbody>\n",
              "    <tr>\n",
              "      <th>2019-10-01</th>\n",
              "      <td>91.610</td>\n",
              "    </tr>\n",
              "    <tr>\n",
              "      <th>2019-11-01</th>\n",
              "      <td>83.281</td>\n",
              "    </tr>\n",
              "    <tr>\n",
              "      <th>2019-12-01</th>\n",
              "      <td>73.921</td>\n",
              "    </tr>\n",
              "    <tr>\n",
              "      <th>2020-01-01</th>\n",
              "      <td>89.571</td>\n",
              "    </tr>\n",
              "    <tr>\n",
              "      <th>2020-02-01</th>\n",
              "      <td>105.635</td>\n",
              "    </tr>\n",
              "    <tr>\n",
              "      <th>2020-03-01</th>\n",
              "      <td>119.602</td>\n",
              "    </tr>\n",
              "    <tr>\n",
              "      <th>2020-04-01</th>\n",
              "      <td>127.115</td>\n",
              "    </tr>\n",
              "    <tr>\n",
              "      <th>2020-05-01</th>\n",
              "      <td>131.199</td>\n",
              "    </tr>\n",
              "    <tr>\n",
              "      <th>2020-06-01</th>\n",
              "      <td>132.235</td>\n",
              "    </tr>\n",
              "    <tr>\n",
              "      <th>2020-07-01</th>\n",
              "      <td>119.573</td>\n",
              "    </tr>\n",
              "    <tr>\n",
              "      <th>2020-08-01</th>\n",
              "      <td>110.013</td>\n",
              "    </tr>\n",
              "    <tr>\n",
              "      <th>2020-09-01</th>\n",
              "      <td>99.241</td>\n",
              "    </tr>\n",
              "    <tr>\n",
              "      <th>2020-10-01</th>\n",
              "      <td>90.984</td>\n",
              "    </tr>\n",
              "    <tr>\n",
              "      <th>2020-11-01</th>\n",
              "      <td>83.880</td>\n",
              "    </tr>\n",
              "    <tr>\n",
              "      <th>2020-12-01</th>\n",
              "      <td>76.642</td>\n",
              "    </tr>\n",
              "    <tr>\n",
              "      <th>2021-01-01</th>\n",
              "      <td>93.040</td>\n",
              "    </tr>\n",
              "    <tr>\n",
              "      <th>2021-02-01</th>\n",
              "      <td>109.168</td>\n",
              "    </tr>\n",
              "    <tr>\n",
              "      <th>2021-03-01</th>\n",
              "      <td>117.096</td>\n",
              "    </tr>\n",
              "    <tr>\n",
              "      <th>2021-04-01</th>\n",
              "      <td>123.074</td>\n",
              "    </tr>\n",
              "    <tr>\n",
              "      <th>2021-05-01</th>\n",
              "      <td>133.939</td>\n",
              "    </tr>\n",
              "    <tr>\n",
              "      <th>2021-06-01</th>\n",
              "      <td>128.665</td>\n",
              "    </tr>\n",
              "    <tr>\n",
              "      <th>2021-07-01</th>\n",
              "      <td>119.810</td>\n",
              "    </tr>\n",
              "    <tr>\n",
              "      <th>2021-08-01</th>\n",
              "      <td>108.201</td>\n",
              "    </tr>\n",
              "    <tr>\n",
              "      <th>2021-09-01</th>\n",
              "      <td>97.674</td>\n",
              "    </tr>\n",
              "    <tr>\n",
              "      <th>2021-10-01</th>\n",
              "      <td>89.673</td>\n",
              "    </tr>\n",
              "    <tr>\n",
              "      <th>2021-11-01</th>\n",
              "      <td>82.571</td>\n",
              "    </tr>\n",
              "    <tr>\n",
              "      <th>2021-12-01</th>\n",
              "      <td>76.874</td>\n",
              "    </tr>\n",
              "    <tr>\n",
              "      <th>2022-01-01</th>\n",
              "      <td>95.234</td>\n",
              "    </tr>\n",
              "    <tr>\n",
              "      <th>2022-02-01</th>\n",
              "      <td>111.130</td>\n",
              "    </tr>\n",
              "    <tr>\n",
              "      <th>2022-03-01</th>\n",
              "      <td>119.476</td>\n",
              "    </tr>\n",
              "    <tr>\n",
              "      <th>2022-04-01</th>\n",
              "      <td>124.564</td>\n",
              "    </tr>\n",
              "    <tr>\n",
              "      <th>2022-05-01</th>\n",
              "      <td>138.008</td>\n",
              "    </tr>\n",
              "    <tr>\n",
              "      <th>2022-06-01</th>\n",
              "      <td>128.128</td>\n",
              "    </tr>\n",
              "    <tr>\n",
              "      <th>2022-07-01</th>\n",
              "      <td>119.836</td>\n",
              "    </tr>\n",
              "    <tr>\n",
              "      <th>2022-08-01</th>\n",
              "      <td>107.101</td>\n",
              "    </tr>\n",
              "    <tr>\n",
              "      <th>2022-09-01</th>\n",
              "      <td>96.716</td>\n",
              "    </tr>\n",
              "  </tbody>\n",
              "</table>\n",
              "</div>\n",
              "      <button class=\"colab-df-convert\" onclick=\"convertToInteractive('df-25206410-12c9-44db-b7a6-4a594087a85c')\"\n",
              "              title=\"Convert this dataframe to an interactive table.\"\n",
              "              style=\"display:none;\">\n",
              "        \n",
              "  <svg xmlns=\"http://www.w3.org/2000/svg\" height=\"24px\"viewBox=\"0 0 24 24\"\n",
              "       width=\"24px\">\n",
              "    <path d=\"M0 0h24v24H0V0z\" fill=\"none\"/>\n",
              "    <path d=\"M18.56 5.44l.94 2.06.94-2.06 2.06-.94-2.06-.94-.94-2.06-.94 2.06-2.06.94zm-11 1L8.5 8.5l.94-2.06 2.06-.94-2.06-.94L8.5 2.5l-.94 2.06-2.06.94zm10 10l.94 2.06.94-2.06 2.06-.94-2.06-.94-.94-2.06-.94 2.06-2.06.94z\"/><path d=\"M17.41 7.96l-1.37-1.37c-.4-.4-.92-.59-1.43-.59-.52 0-1.04.2-1.43.59L10.3 9.45l-7.72 7.72c-.78.78-.78 2.05 0 2.83L4 21.41c.39.39.9.59 1.41.59.51 0 1.02-.2 1.41-.59l7.78-7.78 2.81-2.81c.8-.78.8-2.07 0-2.86zM5.41 20L4 18.59l7.72-7.72 1.47 1.35L5.41 20z\"/>\n",
              "  </svg>\n",
              "      </button>\n",
              "      \n",
              "  <style>\n",
              "    .colab-df-container {\n",
              "      display:flex;\n",
              "      flex-wrap:wrap;\n",
              "      gap: 12px;\n",
              "    }\n",
              "\n",
              "    .colab-df-convert {\n",
              "      background-color: #E8F0FE;\n",
              "      border: none;\n",
              "      border-radius: 50%;\n",
              "      cursor: pointer;\n",
              "      display: none;\n",
              "      fill: #1967D2;\n",
              "      height: 32px;\n",
              "      padding: 0 0 0 0;\n",
              "      width: 32px;\n",
              "    }\n",
              "\n",
              "    .colab-df-convert:hover {\n",
              "      background-color: #E2EBFA;\n",
              "      box-shadow: 0px 1px 2px rgba(60, 64, 67, 0.3), 0px 1px 3px 1px rgba(60, 64, 67, 0.15);\n",
              "      fill: #174EA6;\n",
              "    }\n",
              "\n",
              "    [theme=dark] .colab-df-convert {\n",
              "      background-color: #3B4455;\n",
              "      fill: #D2E3FC;\n",
              "    }\n",
              "\n",
              "    [theme=dark] .colab-df-convert:hover {\n",
              "      background-color: #434B5C;\n",
              "      box-shadow: 0px 1px 3px 1px rgba(0, 0, 0, 0.15);\n",
              "      filter: drop-shadow(0px 1px 2px rgba(0, 0, 0, 0.3));\n",
              "      fill: #FFFFFF;\n",
              "    }\n",
              "  </style>\n",
              "\n",
              "      <script>\n",
              "        const buttonEl =\n",
              "          document.querySelector('#df-25206410-12c9-44db-b7a6-4a594087a85c button.colab-df-convert');\n",
              "        buttonEl.style.display =\n",
              "          google.colab.kernel.accessAllowed ? 'block' : 'none';\n",
              "\n",
              "        async function convertToInteractive(key) {\n",
              "          const element = document.querySelector('#df-25206410-12c9-44db-b7a6-4a594087a85c');\n",
              "          const dataTable =\n",
              "            await google.colab.kernel.invokeFunction('convertToInteractive',\n",
              "                                                     [key], {});\n",
              "          if (!dataTable) return;\n",
              "\n",
              "          const docLinkHtml = 'Like what you see? Visit the ' +\n",
              "            '<a target=\"_blank\" href=https://colab.research.google.com/notebooks/data_table.ipynb>data table notebook</a>'\n",
              "            + ' to learn more about interactive tables.';\n",
              "          element.innerHTML = '';\n",
              "          dataTable['output_type'] = 'display_data';\n",
              "          await google.colab.output.renderOutput(dataTable, element);\n",
              "          const docLink = document.createElement('div');\n",
              "          docLink.innerHTML = docLinkHtml;\n",
              "          element.appendChild(docLink);\n",
              "        }\n",
              "      </script>\n",
              "    </div>\n",
              "  </div>\n",
              "  "
            ]
          },
          "metadata": {},
          "execution_count": 102
        }
      ]
    },
    {
      "cell_type": "code",
      "source": [
        "plt.figure(figsize = (16, 8))\n",
        "plt.plot(df.index, df['Production'])\n",
        "plt.plot(forecast_df.index, forecast_df['Forecast'])"
      ],
      "metadata": {
        "colab": {
          "base_uri": "https://localhost:8080/",
          "height": 500
        },
        "id": "lGZxOcnjez7f",
        "outputId": "a70155c9-7cc7-4cce-e9d8-6c4d8318e9ec"
      },
      "execution_count": 103,
      "outputs": [
        {
          "output_type": "execute_result",
          "data": {
            "text/plain": [
              "[<matplotlib.lines.Line2D at 0x7ff33c7ae650>]"
            ]
          },
          "metadata": {},
          "execution_count": 103
        },
        {
          "output_type": "display_data",
          "data": {
            "text/plain": [
              "<Figure size 1152x576 with 1 Axes>"
            ],
            "image/png": "[encoded data removed]"
          },
          "metadata": {}
        }
      ]
    }
  ]
}