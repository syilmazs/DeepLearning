{
  "cells": [
    {
      "cell_type": "markdown",
      "metadata": {
        "id": "view-in-github",
        "colab_type": "text"
      },
      "source": [
        "<a href=\"https://colab.research.google.com/github/syilmazs/DeepLearning/blob/main/Assignment_2_(CNN_Image_Classification).ipynb\" target=\"_parent\"><img src=\"https://colab.research.google.com/assets/colab-badge.svg\" alt=\"Open In Colab\"/></a>"
      ]
    },
    {
      "cell_type": "markdown",
      "metadata": {
        "id": "Md5UFmxwQgfT"
      },
      "source": [
        "\n",
        "# Image Classification with CNN\n",
        "\n",
        "\n",
        "Welcome to second assignment of Deep learning lesson. Follow the instructions and complete the assignment.\n",
        "\n",
        "------------\n",
        "\n",
        "## Task\n",
        "\n",
        "**Build an image classifier with Convolutional Neural Networks for the Fashion MNIST dataset. This data set includes 10 labels of different clothing types with 28 by 28 *grayscale* images. There is a training set of 60,000 images and 10,000 test images.**\n",
        "\n",
        "    Label\tDescription\n",
        "    0\t    T-shirt/top\n",
        "    1\t    Trouser\n",
        "    2\t    Pullover\n",
        "    3\t    Dress\n",
        "    4\t    Coat\n",
        "    5\t    Sandal\n",
        "    6\t    Shirt\n",
        "    7\t    Sneaker\n",
        "    8\t    Bag\n",
        "    9\t    Ankle boot\n",
        "    \n",
        " "
      ]
    },
    {
      "cell_type": "markdown",
      "metadata": {
        "id": "gxWOYT7lQgfW"
      },
      "source": [
        "## The Data\n",
        "\n",
        "**Download the fashion mnist dataset using Keras.**"
      ]
    },
    {
      "cell_type": "code",
      "execution_count": 1,
      "metadata": {
        "id": "3D5d8ycPQgfX",
        "colab": {
          "base_uri": "https://localhost:8080/"
        },
        "outputId": "afcd5cdc-5764-41a0-fc1c-261d84ebc1ec"
      },
      "outputs": [
        {
          "output_type": "stream",
          "name": "stdout",
          "text": [
            "Downloading data from https://storage.googleapis.com/tensorflow/tf-keras-datasets/train-labels-idx1-ubyte.gz\n",
            "32768/29515 [=================================] - 0s 0us/step\n",
            "40960/29515 [=========================================] - 0s 0us/step\n",
            "Downloading data from https://storage.googleapis.com/tensorflow/tf-keras-datasets/train-images-idx3-ubyte.gz\n",
            "26427392/26421880 [==============================] - 0s 0us/step\n",
            "26435584/26421880 [==============================] - 0s 0us/step\n",
            "Downloading data from https://storage.googleapis.com/tensorflow/tf-keras-datasets/t10k-labels-idx1-ubyte.gz\n",
            "16384/5148 [===============================================================================================] - 0s 0us/step\n",
            "Downloading data from https://storage.googleapis.com/tensorflow/tf-keras-datasets/t10k-images-idx3-ubyte.gz\n",
            "4423680/4422102 [==============================] - 0s 0us/step\n",
            "4431872/4422102 [==============================] - 0s 0us/step\n"
          ]
        }
      ],
      "source": [
        "from tensorflow.keras.datasets import fashion_mnist\n",
        "\n",
        "(X_train, y_train), (X_test, y_test) = fashion_mnist.load_data()"
      ]
    },
    {
      "cell_type": "code",
      "source": [
        "import os\n",
        "import numpy as np\n",
        "import pandas as pd\n",
        "from keras.models import Sequential\n",
        "from keras.layers import Activation, Dropout, Flatten, Dense\n",
        "from keras.preprocessing.image import ImageDataGenerator\n",
        "from keras.layers import Convolution2D, MaxPooling2D, ZeroPadding2D\n",
        "from sklearn.model_selection import train_test_split\n",
        "from keras import optimizers\n",
        "from keras.preprocessing import image\n",
        "import matplotlib.pyplot as plt\n",
        "from matplotlib.image import imread"
      ],
      "metadata": {
        "id": "wRC7rPRSxciN"
      },
      "execution_count": 2,
      "outputs": []
    },
    {
      "cell_type": "code",
      "source": [
        "labels=[\"T-shirt/top\", \"Trouser\",\"Pullover\",\"Dress\",\"Coat\",\"Sandal\",\"Shirt\",\"Sneaker\",\"Bag\",\"Ankle boot\"]"
      ],
      "metadata": {
        "id": "76AbKe40tX18"
      },
      "execution_count": 75,
      "outputs": []
    },
    {
      "cell_type": "markdown",
      "metadata": {
        "id": "EcTMXz2cQgfc"
      },
      "source": [
        "## Visualizing the Data\n",
        "\n",
        "**Using matplotlib show an any image from the data set.**"
      ]
    },
    {
      "cell_type": "code",
      "execution_count": 3,
      "metadata": {
        "id": "3Y_sV0KzQgfc",
        "colab": {
          "base_uri": "https://localhost:8080/"
        },
        "outputId": "406e0bf6-e026-4903-b187-a788962cb7a3"
      },
      "outputs": [
        {
          "output_type": "execute_result",
          "data": {
            "text/plain": [
              "(60000, 28, 28)"
            ]
          },
          "metadata": {},
          "execution_count": 3
        }
      ],
      "source": [
        "X_train.shape"
      ]
    },
    {
      "cell_type": "code",
      "execution_count": 4,
      "metadata": {
        "id": "JONxuziQQgfc",
        "colab": {
          "base_uri": "https://localhost:8080/"
        },
        "outputId": "41dfd548-371b-44c0-e94d-b437472c1f13"
      },
      "outputs": [
        {
          "output_type": "execute_result",
          "data": {
            "text/plain": [
              "(10000, 28, 28)"
            ]
          },
          "metadata": {},
          "execution_count": 4
        }
      ],
      "source": [
        "X_test.shape"
      ]
    },
    {
      "cell_type": "code",
      "source": [
        "X_train[0]"
      ],
      "metadata": {
        "colab": {
          "base_uri": "https://localhost:8080/"
        },
        "id": "FYJ-7MHZyUln",
        "outputId": "295ff1e5-45a5-4b8c-d0de-2ed0cc66d6a8"
      },
      "execution_count": 5,
      "outputs": [
        {
          "output_type": "execute_result",
          "data": {
            "text/plain": [
              "array([[  0,   0,   0,   0,   0,   0,   0,   0,   0,   0,   0,   0,   0,\n",
              "          0,   0,   0,   0,   0,   0,   0,   0,   0,   0,   0,   0,   0,\n",
              "          0,   0],\n",
              "       [  0,   0,   0,   0,   0,   0,   0,   0,   0,   0,   0,   0,   0,\n",
              "          0,   0,   0,   0,   0,   0,   0,   0,   0,   0,   0,   0,   0,\n",
              "          0,   0],\n",
              "       [  0,   0,   0,   0,   0,   0,   0,   0,   0,   0,   0,   0,   0,\n",
              "          0,   0,   0,   0,   0,   0,   0,   0,   0,   0,   0,   0,   0,\n",
              "          0,   0],\n",
              "       [  0,   0,   0,   0,   0,   0,   0,   0,   0,   0,   0,   0,   1,\n",
              "          0,   0,  13,  73,   0,   0,   1,   4,   0,   0,   0,   0,   1,\n",
              "          1,   0],\n",
              "       [  0,   0,   0,   0,   0,   0,   0,   0,   0,   0,   0,   0,   3,\n",
              "          0,  36, 136, 127,  62,  54,   0,   0,   0,   1,   3,   4,   0,\n",
              "          0,   3],\n",
              "       [  0,   0,   0,   0,   0,   0,   0,   0,   0,   0,   0,   0,   6,\n",
              "          0, 102, 204, 176, 134, 144, 123,  23,   0,   0,   0,   0,  12,\n",
              "         10,   0],\n",
              "       [  0,   0,   0,   0,   0,   0,   0,   0,   0,   0,   0,   0,   0,\n",
              "          0, 155, 236, 207, 178, 107, 156, 161, 109,  64,  23,  77, 130,\n",
              "         72,  15],\n",
              "       [  0,   0,   0,   0,   0,   0,   0,   0,   0,   0,   0,   1,   0,\n",
              "         69, 207, 223, 218, 216, 216, 163, 127, 121, 122, 146, 141,  88,\n",
              "        172,  66],\n",
              "       [  0,   0,   0,   0,   0,   0,   0,   0,   0,   1,   1,   1,   0,\n",
              "        200, 232, 232, 233, 229, 223, 223, 215, 213, 164, 127, 123, 196,\n",
              "        229,   0],\n",
              "       [  0,   0,   0,   0,   0,   0,   0,   0,   0,   0,   0,   0,   0,\n",
              "        183, 225, 216, 223, 228, 235, 227, 224, 222, 224, 221, 223, 245,\n",
              "        173,   0],\n",
              "       [  0,   0,   0,   0,   0,   0,   0,   0,   0,   0,   0,   0,   0,\n",
              "        193, 228, 218, 213, 198, 180, 212, 210, 211, 213, 223, 220, 243,\n",
              "        202,   0],\n",
              "       [  0,   0,   0,   0,   0,   0,   0,   0,   0,   1,   3,   0,  12,\n",
              "        219, 220, 212, 218, 192, 169, 227, 208, 218, 224, 212, 226, 197,\n",
              "        209,  52],\n",
              "       [  0,   0,   0,   0,   0,   0,   0,   0,   0,   0,   6,   0,  99,\n",
              "        244, 222, 220, 218, 203, 198, 221, 215, 213, 222, 220, 245, 119,\n",
              "        167,  56],\n",
              "       [  0,   0,   0,   0,   0,   0,   0,   0,   0,   4,   0,   0,  55,\n",
              "        236, 228, 230, 228, 240, 232, 213, 218, 223, 234, 217, 217, 209,\n",
              "         92,   0],\n",
              "       [  0,   0,   1,   4,   6,   7,   2,   0,   0,   0,   0,   0, 237,\n",
              "        226, 217, 223, 222, 219, 222, 221, 216, 223, 229, 215, 218, 255,\n",
              "         77,   0],\n",
              "       [  0,   3,   0,   0,   0,   0,   0,   0,   0,  62, 145, 204, 228,\n",
              "        207, 213, 221, 218, 208, 211, 218, 224, 223, 219, 215, 224, 244,\n",
              "        159,   0],\n",
              "       [  0,   0,   0,   0,  18,  44,  82, 107, 189, 228, 220, 222, 217,\n",
              "        226, 200, 205, 211, 230, 224, 234, 176, 188, 250, 248, 233, 238,\n",
              "        215,   0],\n",
              "       [  0,  57, 187, 208, 224, 221, 224, 208, 204, 214, 208, 209, 200,\n",
              "        159, 245, 193, 206, 223, 255, 255, 221, 234, 221, 211, 220, 232,\n",
              "        246,   0],\n",
              "       [  3, 202, 228, 224, 221, 211, 211, 214, 205, 205, 205, 220, 240,\n",
              "         80, 150, 255, 229, 221, 188, 154, 191, 210, 204, 209, 222, 228,\n",
              "        225,   0],\n",
              "       [ 98, 233, 198, 210, 222, 229, 229, 234, 249, 220, 194, 215, 217,\n",
              "        241,  65,  73, 106, 117, 168, 219, 221, 215, 217, 223, 223, 224,\n",
              "        229,  29],\n",
              "       [ 75, 204, 212, 204, 193, 205, 211, 225, 216, 185, 197, 206, 198,\n",
              "        213, 240, 195, 227, 245, 239, 223, 218, 212, 209, 222, 220, 221,\n",
              "        230,  67],\n",
              "       [ 48, 203, 183, 194, 213, 197, 185, 190, 194, 192, 202, 214, 219,\n",
              "        221, 220, 236, 225, 216, 199, 206, 186, 181, 177, 172, 181, 205,\n",
              "        206, 115],\n",
              "       [  0, 122, 219, 193, 179, 171, 183, 196, 204, 210, 213, 207, 211,\n",
              "        210, 200, 196, 194, 191, 195, 191, 198, 192, 176, 156, 167, 177,\n",
              "        210,  92],\n",
              "       [  0,   0,  74, 189, 212, 191, 175, 172, 175, 181, 185, 188, 189,\n",
              "        188, 193, 198, 204, 209, 210, 210, 211, 188, 188, 194, 192, 216,\n",
              "        170,   0],\n",
              "       [  2,   0,   0,   0,  66, 200, 222, 237, 239, 242, 246, 243, 244,\n",
              "        221, 220, 193, 191, 179, 182, 182, 181, 176, 166, 168,  99,  58,\n",
              "          0,   0],\n",
              "       [  0,   0,   0,   0,   0,   0,   0,  40,  61,  44,  72,  41,  35,\n",
              "          0,   0,   0,   0,   0,   0,   0,   0,   0,   0,   0,   0,   0,\n",
              "          0,   0],\n",
              "       [  0,   0,   0,   0,   0,   0,   0,   0,   0,   0,   0,   0,   0,\n",
              "          0,   0,   0,   0,   0,   0,   0,   0,   0,   0,   0,   0,   0,\n",
              "          0,   0],\n",
              "       [  0,   0,   0,   0,   0,   0,   0,   0,   0,   0,   0,   0,   0,\n",
              "          0,   0,   0,   0,   0,   0,   0,   0,   0,   0,   0,   0,   0,\n",
              "          0,   0]], dtype=uint8)"
            ]
          },
          "metadata": {},
          "execution_count": 5
        }
      ]
    },
    {
      "cell_type": "code",
      "source": [
        "plt.imshow(X_train[0]);"
      ],
      "metadata": {
        "colab": {
          "base_uri": "https://localhost:8080/",
          "height": 265
        },
        "id": "psWNWFD_ysqW",
        "outputId": "84011233-7784-403e-c9dd-8b30373faa91"
      },
      "execution_count": 6,
      "outputs": [
        {
          "output_type": "display_data",
          "data": {
            "text/plain": [
              "<Figure size 432x288 with 1 Axes>"
            ],
            "image/png": "[encoded data removed]"
          },
          "metadata": {
            "needs_background": "light"
          }
        }
      ]
    },
    {
      "cell_type": "code",
      "source": [
        "plt.imshow(X_test[0]);"
      ],
      "metadata": {
        "colab": {
          "base_uri": "https://localhost:8080/",
          "height": 265
        },
        "id": "1h065qcaXQql",
        "outputId": "5037fa17-f3b2-43e1-8dc3-77209956b2f8"
      },
      "execution_count": 7,
      "outputs": [
        {
          "output_type": "display_data",
          "data": {
            "text/plain": [
              "<Figure size 432x288 with 1 Axes>"
            ],
            "image/png": "[encoded data removed]"
          },
          "metadata": {
            "needs_background": "light"
          }
        }
      ]
    },
    {
      "cell_type": "markdown",
      "metadata": {
        "id": "uS90h6BgQgfd"
      },
      "source": [
        "## Preprocessing the Data\n",
        "\n",
        "**Normalize the X train and X test using max value of the image arrays.**"
      ]
    },
    {
      "cell_type": "code",
      "source": [
        "# Before normalization\n",
        "print('Train: min=%.2f, max=%.2f' % (X_train.min(), X_train.max()))\n",
        "print('Test: min=%.2f, max=%.2f' % (X_test.min(), X_test.max()))"
      ],
      "metadata": {
        "colab": {
          "base_uri": "https://localhost:8080/"
        },
        "id": "LA--mW2lYuEI",
        "outputId": "5177de13-af4a-44db-f8e6-ff5645dd183f"
      },
      "execution_count": 8,
      "outputs": [
        {
          "output_type": "stream",
          "name": "stdout",
          "text": [
            "Train: min=0.00, max=255.00\n",
            "Test: min=0.00, max=255.00\n"
          ]
        }
      ]
    },
    {
      "cell_type": "code",
      "source": [
        "X_train = X_train/255\n",
        "X_test = X_test/255"
      ],
      "metadata": {
        "id": "pRqixM4AZFFs"
      },
      "execution_count": 9,
      "outputs": []
    },
    {
      "cell_type": "code",
      "source": [
        "# After normalization\n",
        "print('Train: min=%.2f, max=%.2f' % (X_train.min(), X_train.max()))\n",
        "print('Test: min=%.2f, max=%.2f' % (X_test.min(), X_test.max()))"
      ],
      "metadata": {
        "colab": {
          "base_uri": "https://localhost:8080/"
        },
        "id": "auuCUVrPZFCv",
        "outputId": "10a61738-5f89-424b-e2b1-d74d325166bd"
      },
      "execution_count": 10,
      "outputs": [
        {
          "output_type": "stream",
          "name": "stdout",
          "text": [
            "Train: min=0.00, max=1.00\n",
            "Test: min=0.00, max=1.00\n"
          ]
        }
      ]
    },
    {
      "cell_type": "code",
      "source": [
        "x = []\n",
        "y = []\n",
        "for i in range(X_train.shape[0]):\n",
        "    \n",
        "    d1,d2, = X_train[i].shape\n",
        "    x.append(d1)\n",
        "    y.append(d2)"
      ],
      "metadata": {
        "id": "yme_ObGLXb32"
      },
      "execution_count": 11,
      "outputs": []
    },
    {
      "cell_type": "code",
      "source": [
        "max(x), max(y)"
      ],
      "metadata": {
        "colab": {
          "base_uri": "https://localhost:8080/"
        },
        "id": "hcJclpwXZgxf",
        "outputId": "e03b8f61-8309-4e27-be00-d4d7f208113c"
      },
      "execution_count": 12,
      "outputs": [
        {
          "output_type": "execute_result",
          "data": {
            "text/plain": [
              "(28, 28)"
            ]
          },
          "metadata": {},
          "execution_count": 12
        }
      ]
    },
    {
      "cell_type": "code",
      "source": [
        "min(y), min(x)"
      ],
      "metadata": {
        "colab": {
          "base_uri": "https://localhost:8080/"
        },
        "id": "lMGcbehdZlDh",
        "outputId": "3ac43ff8-5e3e-4665-828c-21c1f58b09d6"
      },
      "execution_count": 13,
      "outputs": [
        {
          "output_type": "execute_result",
          "data": {
            "text/plain": [
              "(28, 28)"
            ]
          },
          "metadata": {},
          "execution_count": 13
        }
      ]
    },
    {
      "cell_type": "markdown",
      "source": [
        "All of the images are in 28x28 size."
      ],
      "metadata": {
        "id": "3ee4D8SlZpgn"
      }
    },
    {
      "cell_type": "markdown",
      "metadata": {
        "id": "8L6hvmidQgfe"
      },
      "source": [
        "**Reshape the X into 4 dimension**"
      ]
    },
    {
      "cell_type": "code",
      "source": [
        "X_train.shape, X_test.shape"
      ],
      "metadata": {
        "colab": {
          "base_uri": "https://localhost:8080/"
        },
        "id": "RqSfrZRfZ-No",
        "outputId": "807096f9-af95-40c0-e4da-c48d118482d2"
      },
      "execution_count": 15,
      "outputs": [
        {
          "output_type": "execute_result",
          "data": {
            "text/plain": [
              "((60000, 28, 28), (10000, 28, 28))"
            ]
          },
          "metadata": {},
          "execution_count": 15
        }
      ]
    },
    {
      "cell_type": "code",
      "execution_count": 16,
      "metadata": {
        "id": "fdwqioE-Qgfe"
      },
      "outputs": [],
      "source": [
        "width, height, channels = X_train.shape[1], X_train.shape[2], 1\n",
        "X_train = X_train.reshape((X_train.shape[0], width, height, channels))\n",
        "X_test = X_test.reshape((X_test.shape[0], width, height, channels))"
      ]
    },
    {
      "cell_type": "code",
      "execution_count": 17,
      "metadata": {
        "id": "Cuse5REnQgfe",
        "colab": {
          "base_uri": "https://localhost:8080/"
        },
        "outputId": "7b0fd7c9-1d0f-4422-b35d-15b078e03b3b"
      },
      "outputs": [
        {
          "output_type": "execute_result",
          "data": {
            "text/plain": [
              "((60000, 28, 28, 1), (10000, 28, 28, 1))"
            ]
          },
          "metadata": {},
          "execution_count": 17
        }
      ],
      "source": [
        "X_train.shape, X_test.shape"
      ]
    },
    {
      "cell_type": "markdown",
      "metadata": {
        "id": "JzUD_fSWQgff"
      },
      "source": [
        "**Convert the y_train and y_test values to be one-hot encoded for categorical analysis.**"
      ]
    },
    {
      "cell_type": "code",
      "execution_count": 18,
      "metadata": {
        "id": "Tv4xuFQmQgff"
      },
      "outputs": [],
      "source": [
        "from tensorflow.keras.utils import to_categorical"
      ]
    },
    {
      "cell_type": "code",
      "execution_count": 19,
      "metadata": {
        "id": "iOcFPoOdQgff"
      },
      "outputs": [],
      "source": [
        "y_train_cat = to_categorical(y_train)\n",
        "y_test_cat = to_categorical(y_test)"
      ]
    },
    {
      "cell_type": "code",
      "execution_count": 20,
      "metadata": {
        "id": "3iVq06YdQgff",
        "colab": {
          "base_uri": "https://localhost:8080/"
        },
        "outputId": "28827812-c7af-4d47-841d-314bd8e03cb5"
      },
      "outputs": [
        {
          "output_type": "execute_result",
          "data": {
            "text/plain": [
              "array([9, 0, 0, ..., 3, 0, 5], dtype=uint8)"
            ]
          },
          "metadata": {},
          "execution_count": 20
        }
      ],
      "source": [
        "y_train"
      ]
    },
    {
      "cell_type": "code",
      "execution_count": 21,
      "metadata": {
        "id": "16BGDhSTQgff",
        "colab": {
          "base_uri": "https://localhost:8080/"
        },
        "outputId": "c78a3780-87af-4033-de2c-70aa8a7069e7"
      },
      "outputs": [
        {
          "output_type": "execute_result",
          "data": {
            "text/plain": [
              "array([[0., 0., 0., ..., 0., 0., 1.],\n",
              "       [1., 0., 0., ..., 0., 0., 0.],\n",
              "       [1., 0., 0., ..., 0., 0., 0.],\n",
              "       ...,\n",
              "       [0., 0., 0., ..., 0., 0., 0.],\n",
              "       [1., 0., 0., ..., 0., 0., 0.],\n",
              "       [0., 0., 0., ..., 0., 0., 0.]], dtype=float32)"
            ]
          },
          "metadata": {},
          "execution_count": 21
        }
      ],
      "source": [
        "y_train_cat"
      ]
    },
    {
      "cell_type": "markdown",
      "metadata": {
        "id": "rfMIuCCGQgff"
      },
      "source": [
        "## Building the Model\n",
        "\n",
        "**Create the model**\n",
        "\n",
        "* 2D Convolutional Layer, filters=28 and kernel_size=(3,3)\n",
        "* Pooling Layer where pool_size = (2,2) strides=(1,1)\n",
        "\n",
        "* Flatten Layer\n",
        "* Dense Layer (128 Neurons, but feel free to play around with this value), RELU activation\n",
        "\n",
        "* Final Dense Layer of 10 Neurons with a softmax activation\n",
        "\n",
        "**Then compile the model with these parameters: loss='categorical_crossentropy', optimizer='rmsprop', metrics=['accuracy']**"
      ]
    },
    {
      "cell_type": "code",
      "execution_count": 44,
      "metadata": {
        "id": "BcA3jI11Qgfg"
      },
      "outputs": [],
      "source": [
        "from tensorflow.keras.models import Sequential\n",
        "from tensorflow.keras.layers import Activation, Dropout, Flatten, Dense, Conv2D, MaxPooling2D"
      ]
    },
    {
      "cell_type": "code",
      "execution_count": 45,
      "metadata": {
        "id": "eVRVZeocQgfg"
      },
      "outputs": [],
      "source": [
        "model = Sequential()\n",
        "\n",
        "model.add(Conv2D(filters=28, kernel_size=(3,3),input_shape= (28,28,1), padding='same', activation='relu',))\n",
        "model.add(MaxPooling2D(pool_size=(2, 2), strides=(1, 1)))\n",
        "\n",
        "model.add(Flatten())\n",
        "\n",
        "\n",
        "model.add(Dense(128))\n",
        "model.add(Activation('relu'))\n",
        "\n",
        "model.add(Dropout(0.5))\n",
        "\n",
        "model.add(Dense(10))\n",
        "model.add(Activation('softmax'))\n",
        "\n",
        "model.compile(loss='categorical_crossentropy',\n",
        "              optimizer='rmsprop',\n",
        "              metrics=['accuracy'])"
      ]
    },
    {
      "cell_type": "code",
      "source": [
        "model.summary()"
      ],
      "metadata": {
        "colab": {
          "base_uri": "https://localhost:8080/"
        },
        "id": "sREmG-NPjr_p",
        "outputId": "d8f9997e-20e8-428d-ce7b-eaf58b3001c1"
      },
      "execution_count": 46,
      "outputs": [
        {
          "output_type": "stream",
          "name": "stdout",
          "text": [
            "Model: \"sequential_3\"\n",
            "_________________________________________________________________\n",
            " Layer (type)                Output Shape              Param #   \n",
            "=================================================================\n",
            " conv2d_3 (Conv2D)           (None, 28, 28, 28)        280       \n",
            "                                                                 \n",
            " max_pooling2d_3 (MaxPooling  (None, 27, 27, 28)       0         \n",
            " 2D)                                                             \n",
            "                                                                 \n",
            " flatten_3 (Flatten)         (None, 20412)             0         \n",
            "                                                                 \n",
            " dense_6 (Dense)             (None, 128)               2612864   \n",
            "                                                                 \n",
            " activation_6 (Activation)   (None, 128)               0         \n",
            "                                                                 \n",
            " dropout_3 (Dropout)         (None, 128)               0         \n",
            "                                                                 \n",
            " dense_7 (Dense)             (None, 10)                1290      \n",
            "                                                                 \n",
            " activation_7 (Activation)   (None, 10)                0         \n",
            "                                                                 \n",
            "=================================================================\n",
            "Total params: 2,614,434\n",
            "Trainable params: 2,614,434\n",
            "Non-trainable params: 0\n",
            "_________________________________________________________________\n"
          ]
        }
      ]
    },
    {
      "cell_type": "markdown",
      "metadata": {
        "id": "vWV1X_sBQgfg"
      },
      "source": [
        "###  Model Training \n",
        "\n",
        "**Train the model with arbitrary amount of epochs.**"
      ]
    },
    {
      "cell_type": "code",
      "source": [
        "model.fit(X_train, y= y_train_cat, epochs=20, batch_size = 128,\n",
        "                    validation_data=(X_test,y_test_cat), verbose=1)"
      ],
      "metadata": {
        "colab": {
          "base_uri": "https://localhost:8080/"
        },
        "id": "4lYmmBJYj-Hr",
        "outputId": "7cd04409-de3e-447a-fa4f-b8ea273bf388"
      },
      "execution_count": 48,
      "outputs": [
        {
          "output_type": "stream",
          "name": "stdout",
          "text": [
            "Epoch 1/20\n",
            "469/469 [==============================] - 5s 11ms/step - loss: 0.3373 - accuracy: 0.8804 - val_loss: 0.2895 - val_accuracy: 0.8955\n",
            "Epoch 2/20\n",
            "469/469 [==============================] - 5s 11ms/step - loss: 0.2912 - accuracy: 0.8969 - val_loss: 0.2747 - val_accuracy: 0.9009\n",
            "Epoch 3/20\n",
            "469/469 [==============================] - 6s 13ms/step - loss: 0.2631 - accuracy: 0.9052 - val_loss: 0.3095 - val_accuracy: 0.8877\n",
            "Epoch 4/20\n",
            "469/469 [==============================] - 5s 10ms/step - loss: 0.2460 - accuracy: 0.9135 - val_loss: 0.2741 - val_accuracy: 0.9032\n",
            "Epoch 5/20\n",
            "469/469 [==============================] - 5s 10ms/step - loss: 0.2377 - accuracy: 0.9161 - val_loss: 0.2581 - val_accuracy: 0.9107\n",
            "Epoch 6/20\n",
            "469/469 [==============================] - 5s 11ms/step - loss: 0.2328 - accuracy: 0.9182 - val_loss: 0.2632 - val_accuracy: 0.9116\n",
            "Epoch 7/20\n",
            "469/469 [==============================] - 5s 11ms/step - loss: 0.2237 - accuracy: 0.9204 - val_loss: 0.2850 - val_accuracy: 0.9114\n",
            "Epoch 8/20\n",
            "469/469 [==============================] - 5s 10ms/step - loss: 0.2216 - accuracy: 0.9225 - val_loss: 0.2614 - val_accuracy: 0.9092\n",
            "Epoch 9/20\n",
            "469/469 [==============================] - 5s 10ms/step - loss: 0.2171 - accuracy: 0.9240 - val_loss: 0.2911 - val_accuracy: 0.9069\n",
            "Epoch 10/20\n",
            "469/469 [==============================] - 5s 11ms/step - loss: 0.2110 - accuracy: 0.9258 - val_loss: 0.2662 - val_accuracy: 0.9110\n",
            "Epoch 11/20\n",
            "469/469 [==============================] - 5s 10ms/step - loss: 0.2073 - accuracy: 0.9275 - val_loss: 0.2831 - val_accuracy: 0.9085\n",
            "Epoch 12/20\n",
            "469/469 [==============================] - 5s 10ms/step - loss: 0.2066 - accuracy: 0.9281 - val_loss: 0.2903 - val_accuracy: 0.9130\n",
            "Epoch 13/20\n",
            "469/469 [==============================] - 5s 10ms/step - loss: 0.2040 - accuracy: 0.9291 - val_loss: 0.2702 - val_accuracy: 0.9091\n",
            "Epoch 14/20\n",
            "469/469 [==============================] - 5s 10ms/step - loss: 0.2015 - accuracy: 0.9298 - val_loss: 0.2725 - val_accuracy: 0.9108\n",
            "Epoch 15/20\n",
            "469/469 [==============================] - 5s 11ms/step - loss: 0.1999 - accuracy: 0.9305 - val_loss: 0.2932 - val_accuracy: 0.9155\n",
            "Epoch 16/20\n",
            "469/469 [==============================] - 5s 10ms/step - loss: 0.1998 - accuracy: 0.9322 - val_loss: 0.2684 - val_accuracy: 0.9149\n",
            "Epoch 17/20\n",
            "469/469 [==============================] - 5s 11ms/step - loss: 0.1970 - accuracy: 0.9309 - val_loss: 0.2818 - val_accuracy: 0.9073\n",
            "Epoch 18/20\n",
            "469/469 [==============================] - 5s 11ms/step - loss: 0.1943 - accuracy: 0.9323 - val_loss: 0.3144 - val_accuracy: 0.9091\n",
            "Epoch 19/20\n",
            "469/469 [==============================] - 5s 10ms/step - loss: 0.1945 - accuracy: 0.9329 - val_loss: 0.3260 - val_accuracy: 0.9026\n",
            "Epoch 20/20\n",
            "469/469 [==============================] - 5s 10ms/step - loss: 0.1952 - accuracy: 0.9335 - val_loss: 0.3181 - val_accuracy: 0.9050\n"
          ]
        },
        {
          "output_type": "execute_result",
          "data": {
            "text/plain": [
              "<keras.callbacks.History at 0x7f601e33d2d0>"
            ]
          },
          "metadata": {},
          "execution_count": 48
        }
      ]
    },
    {
      "cell_type": "markdown",
      "metadata": {
        "id": "-CTcyKPBQgfh"
      },
      "source": [
        "**Plot values of metrics you used in your model.**"
      ]
    },
    {
      "cell_type": "code",
      "execution_count": 49,
      "metadata": {
        "id": "3Q8YECKGQgfh",
        "colab": {
          "base_uri": "https://localhost:8080/",
          "height": 676
        },
        "outputId": "0352b78f-271b-4fdd-838e-48921aa5e9a5"
      },
      "outputs": [
        {
          "output_type": "execute_result",
          "data": {
            "text/plain": [
              "        loss  accuracy  val_loss  val_accuracy\n",
              "0   0.337297  0.880417  0.289453        0.8955\n",
              "1   0.291227  0.896900  0.274699        0.9009\n",
              "2   0.263070  0.905217  0.309512        0.8877\n",
              "3   0.246044  0.913467  0.274148        0.9032\n",
              "4   0.237747  0.916083  0.258113        0.9107\n",
              "5   0.232791  0.918200  0.263170        0.9116\n",
              "6   0.223673  0.920367  0.285019        0.9114\n",
              "7   0.221584  0.922467  0.261417        0.9092\n",
              "8   0.217131  0.924000  0.291135        0.9069\n",
              "9   0.211044  0.925783  0.266224        0.9110\n",
              "10  0.207294  0.927517  0.283065        0.9085\n",
              "11  0.206571  0.928083  0.290348        0.9130\n",
              "12  0.203998  0.929117  0.270156        0.9091\n",
              "13  0.201492  0.929767  0.272462        0.9108\n",
              "14  0.199873  0.930450  0.293157        0.9155\n",
              "15  0.199774  0.932200  0.268396        0.9149\n",
              "16  0.196994  0.930883  0.281782        0.9073\n",
              "17  0.194310  0.932350  0.314438        0.9091\n",
              "18  0.194467  0.932883  0.326016        0.9026\n",
              "19  0.195177  0.933500  0.318063        0.9050"
            ],
            "text/html": [
              "\n",
              "  <div id=\"df-926045f2-b79b-4c6a-b752-320620ba3bc2\">\n",
              "    <div class=\"colab-df-container\">\n",
              "      <div>\n",
              "<style scoped>\n",
              "    .dataframe tbody tr th:only-of-type {\n",
              "        vertical-align: middle;\n",
              "    }\n",
              "\n",
              "    .dataframe tbody tr th {\n",
              "        vertical-align: top;\n",
              "    }\n",
              "\n",
              "    .dataframe thead th {\n",
              "        text-align: right;\n",
              "    }\n",
              "</style>\n",
              "<table border=\"1\" class=\"dataframe\">\n",
              "  <thead>\n",
              "    <tr style=\"text-align: right;\">\n",
              "      <th></th>\n",
              "      <th>loss</th>\n",
              "      <th>accuracy</th>\n",
              "      <th>val_loss</th>\n",
              "      <th>val_accuracy</th>\n",
              "    </tr>\n",
              "  </thead>\n",
              "  <tbody>\n",
              "    <tr>\n",
              "      <th>0</th>\n",
              "      <td>0.337297</td>\n",
              "      <td>0.880417</td>\n",
              "      <td>0.289453</td>\n",
              "      <td>0.8955</td>\n",
              "    </tr>\n",
              "    <tr>\n",
              "      <th>1</th>\n",
              "      <td>0.291227</td>\n",
              "      <td>0.896900</td>\n",
              "      <td>0.274699</td>\n",
              "      <td>0.9009</td>\n",
              "    </tr>\n",
              "    <tr>\n",
              "      <th>2</th>\n",
              "      <td>0.263070</td>\n",
              "      <td>0.905217</td>\n",
              "      <td>0.309512</td>\n",
              "      <td>0.8877</td>\n",
              "    </tr>\n",
              "    <tr>\n",
              "      <th>3</th>\n",
              "      <td>0.246044</td>\n",
              "      <td>0.913467</td>\n",
              "      <td>0.274148</td>\n",
              "      <td>0.9032</td>\n",
              "    </tr>\n",
              "    <tr>\n",
              "      <th>4</th>\n",
              "      <td>0.237747</td>\n",
              "      <td>0.916083</td>\n",
              "      <td>0.258113</td>\n",
              "      <td>0.9107</td>\n",
              "    </tr>\n",
              "    <tr>\n",
              "      <th>5</th>\n",
              "      <td>0.232791</td>\n",
              "      <td>0.918200</td>\n",
              "      <td>0.263170</td>\n",
              "      <td>0.9116</td>\n",
              "    </tr>\n",
              "    <tr>\n",
              "      <th>6</th>\n",
              "      <td>0.223673</td>\n",
              "      <td>0.920367</td>\n",
              "      <td>0.285019</td>\n",
              "      <td>0.9114</td>\n",
              "    </tr>\n",
              "    <tr>\n",
              "      <th>7</th>\n",
              "      <td>0.221584</td>\n",
              "      <td>0.922467</td>\n",
              "      <td>0.261417</td>\n",
              "      <td>0.9092</td>\n",
              "    </tr>\n",
              "    <tr>\n",
              "      <th>8</th>\n",
              "      <td>0.217131</td>\n",
              "      <td>0.924000</td>\n",
              "      <td>0.291135</td>\n",
              "      <td>0.9069</td>\n",
              "    </tr>\n",
              "    <tr>\n",
              "      <th>9</th>\n",
              "      <td>0.211044</td>\n",
              "      <td>0.925783</td>\n",
              "      <td>0.266224</td>\n",
              "      <td>0.9110</td>\n",
              "    </tr>\n",
              "    <tr>\n",
              "      <th>10</th>\n",
              "      <td>0.207294</td>\n",
              "      <td>0.927517</td>\n",
              "      <td>0.283065</td>\n",
              "      <td>0.9085</td>\n",
              "    </tr>\n",
              "    <tr>\n",
              "      <th>11</th>\n",
              "      <td>0.206571</td>\n",
              "      <td>0.928083</td>\n",
              "      <td>0.290348</td>\n",
              "      <td>0.9130</td>\n",
              "    </tr>\n",
              "    <tr>\n",
              "      <th>12</th>\n",
              "      <td>0.203998</td>\n",
              "      <td>0.929117</td>\n",
              "      <td>0.270156</td>\n",
              "      <td>0.9091</td>\n",
              "    </tr>\n",
              "    <tr>\n",
              "      <th>13</th>\n",
              "      <td>0.201492</td>\n",
              "      <td>0.929767</td>\n",
              "      <td>0.272462</td>\n",
              "      <td>0.9108</td>\n",
              "    </tr>\n",
              "    <tr>\n",
              "      <th>14</th>\n",
              "      <td>0.199873</td>\n",
              "      <td>0.930450</td>\n",
              "      <td>0.293157</td>\n",
              "      <td>0.9155</td>\n",
              "    </tr>\n",
              "    <tr>\n",
              "      <th>15</th>\n",
              "      <td>0.199774</td>\n",
              "      <td>0.932200</td>\n",
              "      <td>0.268396</td>\n",
              "      <td>0.9149</td>\n",
              "    </tr>\n",
              "    <tr>\n",
              "      <th>16</th>\n",
              "      <td>0.196994</td>\n",
              "      <td>0.930883</td>\n",
              "      <td>0.281782</td>\n",
              "      <td>0.9073</td>\n",
              "    </tr>\n",
              "    <tr>\n",
              "      <th>17</th>\n",
              "      <td>0.194310</td>\n",
              "      <td>0.932350</td>\n",
              "      <td>0.314438</td>\n",
              "      <td>0.9091</td>\n",
              "    </tr>\n",
              "    <tr>\n",
              "      <th>18</th>\n",
              "      <td>0.194467</td>\n",
              "      <td>0.932883</td>\n",
              "      <td>0.326016</td>\n",
              "      <td>0.9026</td>\n",
              "    </tr>\n",
              "    <tr>\n",
              "      <th>19</th>\n",
              "      <td>0.195177</td>\n",
              "      <td>0.933500</td>\n",
              "      <td>0.318063</td>\n",
              "      <td>0.9050</td>\n",
              "    </tr>\n",
              "  </tbody>\n",
              "</table>\n",
              "</div>\n",
              "      <button class=\"colab-df-convert\" onclick=\"convertToInteractive('df-926045f2-b79b-4c6a-b752-320620ba3bc2')\"\n",
              "              title=\"Convert this dataframe to an interactive table.\"\n",
              "              style=\"display:none;\">\n",
              "        \n",
              "  <svg xmlns=\"http://www.w3.org/2000/svg\" height=\"24px\"viewBox=\"0 0 24 24\"\n",
              "       width=\"24px\">\n",
              "    <path d=\"M0 0h24v24H0V0z\" fill=\"none\"/>\n",
              "    <path d=\"M18.56 5.44l.94 2.06.94-2.06 2.06-.94-2.06-.94-.94-2.06-.94 2.06-2.06.94zm-11 1L8.5 8.5l.94-2.06 2.06-.94-2.06-.94L8.5 2.5l-.94 2.06-2.06.94zm10 10l.94 2.06.94-2.06 2.06-.94-2.06-.94-.94-2.06-.94 2.06-2.06.94z\"/><path d=\"M17.41 7.96l-1.37-1.37c-.4-.4-.92-.59-1.43-.59-.52 0-1.04.2-1.43.59L10.3 9.45l-7.72 7.72c-.78.78-.78 2.05 0 2.83L4 21.41c.39.39.9.59 1.41.59.51 0 1.02-.2 1.41-.59l7.78-7.78 2.81-2.81c.8-.78.8-2.07 0-2.86zM5.41 20L4 18.59l7.72-7.72 1.47 1.35L5.41 20z\"/>\n",
              "  </svg>\n",
              "      </button>\n",
              "      \n",
              "  <style>\n",
              "    .colab-df-container {\n",
              "      display:flex;\n",
              "      flex-wrap:wrap;\n",
              "      gap: 12px;\n",
              "    }\n",
              "\n",
              "    .colab-df-convert {\n",
              "      background-color: #E8F0FE;\n",
              "      border: none;\n",
              "      border-radius: 50%;\n",
              "      cursor: pointer;\n",
              "      display: none;\n",
              "      fill: #1967D2;\n",
              "      height: 32px;\n",
              "      padding: 0 0 0 0;\n",
              "      width: 32px;\n",
              "    }\n",
              "\n",
              "    .colab-df-convert:hover {\n",
              "      background-color: #E2EBFA;\n",
              "      box-shadow: 0px 1px 2px rgba(60, 64, 67, 0.3), 0px 1px 3px 1px rgba(60, 64, 67, 0.15);\n",
              "      fill: #174EA6;\n",
              "    }\n",
              "\n",
              "    [theme=dark] .colab-df-convert {\n",
              "      background-color: #3B4455;\n",
              "      fill: #D2E3FC;\n",
              "    }\n",
              "\n",
              "    [theme=dark] .colab-df-convert:hover {\n",
              "      background-color: #434B5C;\n",
              "      box-shadow: 0px 1px 3px 1px rgba(0, 0, 0, 0.15);\n",
              "      filter: drop-shadow(0px 1px 2px rgba(0, 0, 0, 0.3));\n",
              "      fill: #FFFFFF;\n",
              "    }\n",
              "  </style>\n",
              "\n",
              "      <script>\n",
              "        const buttonEl =\n",
              "          document.querySelector('#df-926045f2-b79b-4c6a-b752-320620ba3bc2 button.colab-df-convert');\n",
              "        buttonEl.style.display =\n",
              "          google.colab.kernel.accessAllowed ? 'block' : 'none';\n",
              "\n",
              "        async function convertToInteractive(key) {\n",
              "          const element = document.querySelector('#df-926045f2-b79b-4c6a-b752-320620ba3bc2');\n",
              "          const dataTable =\n",
              "            await google.colab.kernel.invokeFunction('convertToInteractive',\n",
              "                                                     [key], {});\n",
              "          if (!dataTable) return;\n",
              "\n",
              "          const docLinkHtml = 'Like what you see? Visit the ' +\n",
              "            '<a target=\"_blank\" href=https://colab.research.google.com/notebooks/data_table.ipynb>data table notebook</a>'\n",
              "            + ' to learn more about interactive tables.';\n",
              "          element.innerHTML = '';\n",
              "          dataTable['output_type'] = 'display_data';\n",
              "          await google.colab.output.renderOutput(dataTable, element);\n",
              "          const docLink = document.createElement('div');\n",
              "          docLink.innerHTML = docLinkHtml;\n",
              "          element.appendChild(docLink);\n",
              "        }\n",
              "      </script>\n",
              "    </div>\n",
              "  </div>\n",
              "  "
            ]
          },
          "metadata": {},
          "execution_count": 49
        }
      ],
      "source": [
        "summary = pd.DataFrame(model.history.history)\n",
        "summary"
      ]
    },
    {
      "cell_type": "code",
      "source": [
        "plt.figure(figsize=(12,8))\n",
        "summary.plot();"
      ],
      "metadata": {
        "colab": {
          "base_uri": "https://localhost:8080/",
          "height": 282
        },
        "id": "TvCmNg0wmgU1",
        "outputId": "01908d2b-59e8-4517-e6a1-63f60fa52aa3"
      },
      "execution_count": 50,
      "outputs": [
        {
          "output_type": "display_data",
          "data": {
            "text/plain": [
              "<Figure size 864x576 with 0 Axes>"
            ]
          },
          "metadata": {}
        },
        {
          "output_type": "display_data",
          "data": {
            "text/plain": [
              "<Figure size 432x288 with 1 Axes>"
            ],
            "image/png": "[encoded data removed]"
          },
          "metadata": {
            "needs_background": "light"
          }
        }
      ]
    },
    {
      "cell_type": "code",
      "execution_count": 51,
      "metadata": {
        "id": "4CaCWzGnQgfh",
        "colab": {
          "base_uri": "https://localhost:8080/",
          "height": 388
        },
        "outputId": "00bf1471-7cb6-4666-e631-1cb70dd4a966"
      },
      "outputs": [
        {
          "output_type": "display_data",
          "data": {
            "text/plain": [
              "<Figure size 720x432 with 1 Axes>"
            ],
            "image/png": "[encoded data removed]"
          },
          "metadata": {
            "needs_background": "light"
          }
        }
      ],
      "source": [
        "plt.figure(figsize=(10,6))\n",
        "plt.plot(summary.loss, label=\"loss\")\n",
        "plt.plot(summary.val_loss, label=\"val_loss\")\n",
        "plt.legend(loc=\"upper right\")\n",
        "plt.ylabel(\"Loss\")\n",
        "plt.xlabel(\"Epoch\")\n",
        "plt.show()"
      ]
    },
    {
      "cell_type": "markdown",
      "metadata": {
        "id": "_aN4DMyNQgfh"
      },
      "source": [
        "**Train the model using earlystop.**"
      ]
    },
    {
      "cell_type": "code",
      "execution_count": 52,
      "metadata": {
        "id": "VW3scl1uQgfh"
      },
      "outputs": [],
      "source": [
        "from tensorflow.keras.callbacks import EarlyStopping"
      ]
    },
    {
      "cell_type": "code",
      "execution_count": 53,
      "metadata": {
        "id": "ikxyLzgAQgfh"
      },
      "outputs": [],
      "source": [
        "early_stop = EarlyStopping(monitor='val_loss',patience=5)"
      ]
    },
    {
      "cell_type": "code",
      "source": [
        "model = Sequential()\n",
        "\n",
        "model.add(Conv2D(filters=28, kernel_size=(3,3),input_shape= (28,28,1), padding='same', activation='relu',))\n",
        "model.add(MaxPooling2D(pool_size=(2, 2), strides=(1, 1)))\n",
        "\n",
        "model.add(Flatten())\n",
        "\n",
        "\n",
        "model.add(Dense(128))\n",
        "model.add(Activation('relu'))\n",
        "\n",
        "model.add(Dropout(0.5))\n",
        "\n",
        "model.add(Dense(10))\n",
        "model.add(Activation('softmax'))\n",
        "\n",
        "model.compile(loss='categorical_crossentropy',\n",
        "              optimizer='rmsprop',\n",
        "              metrics=['accuracy'])"
      ],
      "metadata": {
        "id": "VU21g8r0nctI"
      },
      "execution_count": 54,
      "outputs": []
    },
    {
      "cell_type": "code",
      "source": [
        "model.fit(X_train, y= y_train_cat, epochs=20, batch_size = 128,\n",
        "                    validation_data=(X_test,y_test_cat),\n",
        "                    callbacks=[early_stop], verbose=1)"
      ],
      "metadata": {
        "colab": {
          "base_uri": "https://localhost:8080/"
        },
        "id": "y5jD2_NfnYZo",
        "outputId": "15791556-3ae9-4b80-dac7-f80b22426574"
      },
      "execution_count": 55,
      "outputs": [
        {
          "output_type": "stream",
          "name": "stdout",
          "text": [
            "Epoch 1/20\n",
            "469/469 [==============================] - 6s 11ms/step - loss: 0.5080 - accuracy: 0.8278 - val_loss: 0.3451 - val_accuracy: 0.8740\n",
            "Epoch 2/20\n",
            "469/469 [==============================] - 5s 11ms/step - loss: 0.3296 - accuracy: 0.8842 - val_loss: 0.3271 - val_accuracy: 0.8815\n",
            "Epoch 3/20\n",
            "469/469 [==============================] - 5s 10ms/step - loss: 0.2890 - accuracy: 0.8998 - val_loss: 0.2677 - val_accuracy: 0.9019\n",
            "Epoch 4/20\n",
            "469/469 [==============================] - 5s 11ms/step - loss: 0.2643 - accuracy: 0.9068 - val_loss: 0.2692 - val_accuracy: 0.9040\n",
            "Epoch 5/20\n",
            "469/469 [==============================] - 6s 12ms/step - loss: 0.2481 - accuracy: 0.9120 - val_loss: 0.2661 - val_accuracy: 0.9072\n",
            "Epoch 6/20\n",
            "469/469 [==============================] - 7s 14ms/step - loss: 0.2376 - accuracy: 0.9169 - val_loss: 0.2654 - val_accuracy: 0.9084\n",
            "Epoch 7/20\n",
            "469/469 [==============================] - 5s 10ms/step - loss: 0.2281 - accuracy: 0.9209 - val_loss: 0.2530 - val_accuracy: 0.9127\n",
            "Epoch 8/20\n",
            "469/469 [==============================] - 5s 11ms/step - loss: 0.2220 - accuracy: 0.9228 - val_loss: 0.2688 - val_accuracy: 0.9090\n",
            "Epoch 9/20\n",
            "469/469 [==============================] - 5s 10ms/step - loss: 0.2179 - accuracy: 0.9249 - val_loss: 0.2536 - val_accuracy: 0.9133\n",
            "Epoch 10/20\n",
            "469/469 [==============================] - 5s 11ms/step - loss: 0.2092 - accuracy: 0.9266 - val_loss: 0.2601 - val_accuracy: 0.9116\n",
            "Epoch 11/20\n",
            "469/469 [==============================] - 5s 11ms/step - loss: 0.2088 - accuracy: 0.9276 - val_loss: 0.2658 - val_accuracy: 0.9110\n",
            "Epoch 12/20\n",
            "469/469 [==============================] - 5s 11ms/step - loss: 0.2009 - accuracy: 0.9303 - val_loss: 0.2756 - val_accuracy: 0.9107\n"
          ]
        },
        {
          "output_type": "execute_result",
          "data": {
            "text/plain": [
              "<keras.callbacks.History at 0x7f601e1343d0>"
            ]
          },
          "metadata": {},
          "execution_count": 55
        }
      ]
    },
    {
      "cell_type": "markdown",
      "source": [
        "**Plot values of metrics you used in your model.**"
      ],
      "metadata": {
        "id": "dW6Sv8dKptp5"
      }
    },
    {
      "cell_type": "code",
      "source": [
        "summary_estop = pd.DataFrame(model.history.history)\n",
        "summary_estop"
      ],
      "metadata": {
        "colab": {
          "base_uri": "https://localhost:8080/",
          "height": 426
        },
        "id": "YsPQ8CYHobq2",
        "outputId": "2b80f14b-e160-4390-f034-88bf47d627f8"
      },
      "execution_count": 56,
      "outputs": [
        {
          "output_type": "execute_result",
          "data": {
            "text/plain": [
              "        loss  accuracy  val_loss  val_accuracy\n",
              "0   0.507992  0.827800  0.345068        0.8740\n",
              "1   0.329561  0.884250  0.327119        0.8815\n",
              "2   0.289014  0.899817  0.267736        0.9019\n",
              "3   0.264334  0.906783  0.269212        0.9040\n",
              "4   0.248073  0.912033  0.266073        0.9072\n",
              "5   0.237599  0.916867  0.265374        0.9084\n",
              "6   0.228053  0.920950  0.253007        0.9127\n",
              "7   0.222008  0.922800  0.268804        0.9090\n",
              "8   0.217867  0.924900  0.253581        0.9133\n",
              "9   0.209211  0.926617  0.260147        0.9116\n",
              "10  0.208764  0.927583  0.265803        0.9110\n",
              "11  0.200902  0.930283  0.275641        0.9107"
            ],
            "text/html": [
              "\n",
              "  <div id=\"df-8f73f0a1-43c8-434c-9af7-c85f48f65aaf\">\n",
              "    <div class=\"colab-df-container\">\n",
              "      <div>\n",
              "<style scoped>\n",
              "    .dataframe tbody tr th:only-of-type {\n",
              "        vertical-align: middle;\n",
              "    }\n",
              "\n",
              "    .dataframe tbody tr th {\n",
              "        vertical-align: top;\n",
              "    }\n",
              "\n",
              "    .dataframe thead th {\n",
              "        text-align: right;\n",
              "    }\n",
              "</style>\n",
              "<table border=\"1\" class=\"dataframe\">\n",
              "  <thead>\n",
              "    <tr style=\"text-align: right;\">\n",
              "      <th></th>\n",
              "      <th>loss</th>\n",
              "      <th>accuracy</th>\n",
              "      <th>val_loss</th>\n",
              "      <th>val_accuracy</th>\n",
              "    </tr>\n",
              "  </thead>\n",
              "  <tbody>\n",
              "    <tr>\n",
              "      <th>0</th>\n",
              "      <td>0.507992</td>\n",
              "      <td>0.827800</td>\n",
              "      <td>0.345068</td>\n",
              "      <td>0.8740</td>\n",
              "    </tr>\n",
              "    <tr>\n",
              "      <th>1</th>\n",
              "      <td>0.329561</td>\n",
              "      <td>0.884250</td>\n",
              "      <td>0.327119</td>\n",
              "      <td>0.8815</td>\n",
              "    </tr>\n",
              "    <tr>\n",
              "      <th>2</th>\n",
              "      <td>0.289014</td>\n",
              "      <td>0.899817</td>\n",
              "      <td>0.267736</td>\n",
              "      <td>0.9019</td>\n",
              "    </tr>\n",
              "    <tr>\n",
              "      <th>3</th>\n",
              "      <td>0.264334</td>\n",
              "      <td>0.906783</td>\n",
              "      <td>0.269212</td>\n",
              "      <td>0.9040</td>\n",
              "    </tr>\n",
              "    <tr>\n",
              "      <th>4</th>\n",
              "      <td>0.248073</td>\n",
              "      <td>0.912033</td>\n",
              "      <td>0.266073</td>\n",
              "      <td>0.9072</td>\n",
              "    </tr>\n",
              "    <tr>\n",
              "      <th>5</th>\n",
              "      <td>0.237599</td>\n",
              "      <td>0.916867</td>\n",
              "      <td>0.265374</td>\n",
              "      <td>0.9084</td>\n",
              "    </tr>\n",
              "    <tr>\n",
              "      <th>6</th>\n",
              "      <td>0.228053</td>\n",
              "      <td>0.920950</td>\n",
              "      <td>0.253007</td>\n",
              "      <td>0.9127</td>\n",
              "    </tr>\n",
              "    <tr>\n",
              "      <th>7</th>\n",
              "      <td>0.222008</td>\n",
              "      <td>0.922800</td>\n",
              "      <td>0.268804</td>\n",
              "      <td>0.9090</td>\n",
              "    </tr>\n",
              "    <tr>\n",
              "      <th>8</th>\n",
              "      <td>0.217867</td>\n",
              "      <td>0.924900</td>\n",
              "      <td>0.253581</td>\n",
              "      <td>0.9133</td>\n",
              "    </tr>\n",
              "    <tr>\n",
              "      <th>9</th>\n",
              "      <td>0.209211</td>\n",
              "      <td>0.926617</td>\n",
              "      <td>0.260147</td>\n",
              "      <td>0.9116</td>\n",
              "    </tr>\n",
              "    <tr>\n",
              "      <th>10</th>\n",
              "      <td>0.208764</td>\n",
              "      <td>0.927583</td>\n",
              "      <td>0.265803</td>\n",
              "      <td>0.9110</td>\n",
              "    </tr>\n",
              "    <tr>\n",
              "      <th>11</th>\n",
              "      <td>0.200902</td>\n",
              "      <td>0.930283</td>\n",
              "      <td>0.275641</td>\n",
              "      <td>0.9107</td>\n",
              "    </tr>\n",
              "  </tbody>\n",
              "</table>\n",
              "</div>\n",
              "      <button class=\"colab-df-convert\" onclick=\"convertToInteractive('df-8f73f0a1-43c8-434c-9af7-c85f48f65aaf')\"\n",
              "              title=\"Convert this dataframe to an interactive table.\"\n",
              "              style=\"display:none;\">\n",
              "        \n",
              "  <svg xmlns=\"http://www.w3.org/2000/svg\" height=\"24px\"viewBox=\"0 0 24 24\"\n",
              "       width=\"24px\">\n",
              "    <path d=\"M0 0h24v24H0V0z\" fill=\"none\"/>\n",
              "    <path d=\"M18.56 5.44l.94 2.06.94-2.06 2.06-.94-2.06-.94-.94-2.06-.94 2.06-2.06.94zm-11 1L8.5 8.5l.94-2.06 2.06-.94-2.06-.94L8.5 2.5l-.94 2.06-2.06.94zm10 10l.94 2.06.94-2.06 2.06-.94-2.06-.94-.94-2.06-.94 2.06-2.06.94z\"/><path d=\"M17.41 7.96l-1.37-1.37c-.4-.4-.92-.59-1.43-.59-.52 0-1.04.2-1.43.59L10.3 9.45l-7.72 7.72c-.78.78-.78 2.05 0 2.83L4 21.41c.39.39.9.59 1.41.59.51 0 1.02-.2 1.41-.59l7.78-7.78 2.81-2.81c.8-.78.8-2.07 0-2.86zM5.41 20L4 18.59l7.72-7.72 1.47 1.35L5.41 20z\"/>\n",
              "  </svg>\n",
              "      </button>\n",
              "      \n",
              "  <style>\n",
              "    .colab-df-container {\n",
              "      display:flex;\n",
              "      flex-wrap:wrap;\n",
              "      gap: 12px;\n",
              "    }\n",
              "\n",
              "    .colab-df-convert {\n",
              "      background-color: #E8F0FE;\n",
              "      border: none;\n",
              "      border-radius: 50%;\n",
              "      cursor: pointer;\n",
              "      display: none;\n",
              "      fill: #1967D2;\n",
              "      height: 32px;\n",
              "      padding: 0 0 0 0;\n",
              "      width: 32px;\n",
              "    }\n",
              "\n",
              "    .colab-df-convert:hover {\n",
              "      background-color: #E2EBFA;\n",
              "      box-shadow: 0px 1px 2px rgba(60, 64, 67, 0.3), 0px 1px 3px 1px rgba(60, 64, 67, 0.15);\n",
              "      fill: #174EA6;\n",
              "    }\n",
              "\n",
              "    [theme=dark] .colab-df-convert {\n",
              "      background-color: #3B4455;\n",
              "      fill: #D2E3FC;\n",
              "    }\n",
              "\n",
              "    [theme=dark] .colab-df-convert:hover {\n",
              "      background-color: #434B5C;\n",
              "      box-shadow: 0px 1px 3px 1px rgba(0, 0, 0, 0.15);\n",
              "      filter: drop-shadow(0px 1px 2px rgba(0, 0, 0, 0.3));\n",
              "      fill: #FFFFFF;\n",
              "    }\n",
              "  </style>\n",
              "\n",
              "      <script>\n",
              "        const buttonEl =\n",
              "          document.querySelector('#df-8f73f0a1-43c8-434c-9af7-c85f48f65aaf button.colab-df-convert');\n",
              "        buttonEl.style.display =\n",
              "          google.colab.kernel.accessAllowed ? 'block' : 'none';\n",
              "\n",
              "        async function convertToInteractive(key) {\n",
              "          const element = document.querySelector('#df-8f73f0a1-43c8-434c-9af7-c85f48f65aaf');\n",
              "          const dataTable =\n",
              "            await google.colab.kernel.invokeFunction('convertToInteractive',\n",
              "                                                     [key], {});\n",
              "          if (!dataTable) return;\n",
              "\n",
              "          const docLinkHtml = 'Like what you see? Visit the ' +\n",
              "            '<a target=\"_blank\" href=https://colab.research.google.com/notebooks/data_table.ipynb>data table notebook</a>'\n",
              "            + ' to learn more about interactive tables.';\n",
              "          element.innerHTML = '';\n",
              "          dataTable['output_type'] = 'display_data';\n",
              "          await google.colab.output.renderOutput(dataTable, element);\n",
              "          const docLink = document.createElement('div');\n",
              "          docLink.innerHTML = docLinkHtml;\n",
              "          element.appendChild(docLink);\n",
              "        }\n",
              "      </script>\n",
              "    </div>\n",
              "  </div>\n",
              "  "
            ]
          },
          "metadata": {},
          "execution_count": 56
        }
      ]
    },
    {
      "cell_type": "code",
      "source": [
        "plt.figure(figsize=(12,8))\n",
        "summary_estop.plot();"
      ],
      "metadata": {
        "colab": {
          "base_uri": "https://localhost:8080/",
          "height": 282
        },
        "id": "9amcQ7Q-okUu",
        "outputId": "d9fa21e3-6d12-4e25-a7ab-7cc75adf6101"
      },
      "execution_count": 57,
      "outputs": [
        {
          "output_type": "display_data",
          "data": {
            "text/plain": [
              "<Figure size 864x576 with 0 Axes>"
            ]
          },
          "metadata": {}
        },
        {
          "output_type": "display_data",
          "data": {
            "text/plain": [
              "<Figure size 432x288 with 1 Axes>"
            ],
            "image/png": "[encoded data removed]"
          },
          "metadata": {
            "needs_background": "light"
          }
        }
      ]
    },
    {
      "cell_type": "code",
      "source": [
        "plt.figure(figsize=(10,6))\n",
        "plt.plot(summary_estop.loss, label=\"loss\")\n",
        "plt.plot(summary_estop.val_loss, label=\"val_loss\")\n",
        "plt.legend(loc=\"upper right\")\n",
        "plt.ylabel(\"Loss\")\n",
        "plt.xlabel(\"Epoch\")\n",
        "plt.show()"
      ],
      "metadata": {
        "colab": {
          "base_uri": "https://localhost:8080/",
          "height": 388
        },
        "id": "iRjFtYm1oxoB",
        "outputId": "fe4c280f-f3d5-478e-fed6-5716d4a16de2"
      },
      "execution_count": 58,
      "outputs": [
        {
          "output_type": "display_data",
          "data": {
            "text/plain": [
              "<Figure size 720x432 with 1 Axes>"
            ],
            "image/png": "[encoded data removed]"
          },
          "metadata": {
            "needs_background": "light"
          }
        }
      ]
    },
    {
      "cell_type": "markdown",
      "source": [
        "Without early_stop model tends to overfit. After using early_stop model have lower val_loss score and a slightly higher accuracy score."
      ],
      "metadata": {
        "id": "7s33vz7qo5uG"
      }
    },
    {
      "cell_type": "markdown",
      "metadata": {
        "id": "7XpGGNBjQgfi"
      },
      "source": [
        "### Model Evaluation\n",
        "\n",
        "**Show the accuracy,precision,recall,f1-score the model achieved on the x_test data set.**"
      ]
    },
    {
      "cell_type": "code",
      "execution_count": 59,
      "metadata": {
        "id": "EjEKwGwuQgfi",
        "outputId": "b72749ce-aeda-49fc-91bb-e15a973c16a7",
        "colab": {
          "base_uri": "https://localhost:8080/"
        }
      },
      "outputs": [
        {
          "output_type": "execute_result",
          "data": {
            "text/plain": [
              "['loss', 'accuracy']"
            ]
          },
          "metadata": {},
          "execution_count": 59
        }
      ],
      "source": [
        "model.metrics_names"
      ]
    },
    {
      "cell_type": "code",
      "execution_count": 60,
      "metadata": {
        "id": "2c0iuJ7hQgfj",
        "colab": {
          "base_uri": "https://localhost:8080/"
        },
        "outputId": "8361d6c7-a359-43e6-bc36-58d3fdec2fce"
      },
      "outputs": [
        {
          "output_type": "stream",
          "name": "stdout",
          "text": [
            "313/313 [==============================] - 1s 4ms/step - loss: 0.2756 - accuracy: 0.9107\n"
          ]
        },
        {
          "output_type": "execute_result",
          "data": {
            "text/plain": [
              "[0.2756408751010895, 0.9107000231742859]"
            ]
          },
          "metadata": {},
          "execution_count": 60
        }
      ],
      "source": [
        "model.evaluate(X_test, y_test_cat)"
      ]
    },
    {
      "cell_type": "code",
      "execution_count": 61,
      "metadata": {
        "id": "hKz_aWrfQgfj"
      },
      "outputs": [],
      "source": [
        "from sklearn.metrics import classification_report"
      ]
    },
    {
      "cell_type": "code",
      "source": [
        "predictions = model.predict(X_test)\n",
        "predictions"
      ],
      "metadata": {
        "colab": {
          "base_uri": "https://localhost:8080/"
        },
        "id": "1wAcZvzoqsmy",
        "outputId": "dfdbf91b-f74b-4f75-9f97-3f91d176d0cd"
      },
      "execution_count": 63,
      "outputs": [
        {
          "output_type": "execute_result",
          "data": {
            "text/plain": [
              "array([[6.5068828e-10, 4.8371505e-16, 3.0947482e-09, ..., 1.5703134e-05,\n",
              "        4.4700412e-09, 9.9997520e-01],\n",
              "       [3.3118209e-07, 1.4044599e-22, 9.9999964e-01, ..., 2.3309128e-22,\n",
              "        2.7594658e-15, 1.8438941e-25],\n",
              "       [2.1226509e-09, 1.0000000e+00, 1.0895735e-12, ..., 1.0049949e-14,\n",
              "        7.8260098e-12, 4.1956456e-16],\n",
              "       ...,\n",
              "       [4.2458139e-09, 6.3617703e-24, 3.3882179e-12, ..., 8.4499657e-16,\n",
              "        1.0000000e+00, 1.7153177e-19],\n",
              "       [4.3692897e-10, 1.0000000e+00, 2.5042059e-13, ..., 1.9784438e-14,\n",
              "        1.0923125e-11, 1.0069444e-14],\n",
              "       [3.4150872e-03, 4.0251536e-05, 5.1458227e-03, ..., 4.1054249e-01,\n",
              "        2.7890394e-02, 7.4878976e-02]], dtype=float32)"
            ]
          },
          "metadata": {},
          "execution_count": 63
        }
      ]
    },
    {
      "cell_type": "code",
      "source": [
        "preds=np.argmax(predictions,axis=1)\n",
        "preds"
      ],
      "metadata": {
        "colab": {
          "base_uri": "https://localhost:8080/"
        },
        "id": "d6dfwI62qyNz",
        "outputId": "48e8af93-1018-4178-b952-88731071d76a"
      },
      "execution_count": 64,
      "outputs": [
        {
          "output_type": "execute_result",
          "data": {
            "text/plain": [
              "array([9, 2, 1, ..., 8, 1, 5])"
            ]
          },
          "metadata": {},
          "execution_count": 64
        }
      ]
    },
    {
      "cell_type": "code",
      "source": [
        "y_test_cat[1]"
      ],
      "metadata": {
        "colab": {
          "base_uri": "https://localhost:8080/"
        },
        "id": "IC_mu9byq-Ly",
        "outputId": "1652be97-48e0-4b44-8442-b3837cc6abb9"
      },
      "execution_count": 65,
      "outputs": [
        {
          "output_type": "execute_result",
          "data": {
            "text/plain": [
              "array([0., 0., 1., 0., 0., 0., 0., 0., 0., 0.], dtype=float32)"
            ]
          },
          "metadata": {},
          "execution_count": 65
        }
      ]
    },
    {
      "cell_type": "code",
      "source": [
        "np.argmax(predictions[1])"
      ],
      "metadata": {
        "colab": {
          "base_uri": "https://localhost:8080/"
        },
        "id": "Zqh5D9ABrE13",
        "outputId": "9a926766-39d3-403a-e9c3-f93df25f96ba"
      },
      "execution_count": 66,
      "outputs": [
        {
          "output_type": "execute_result",
          "data": {
            "text/plain": [
              "2"
            ]
          },
          "metadata": {},
          "execution_count": 66
        }
      ]
    },
    {
      "cell_type": "code",
      "source": [
        "y_test[1]"
      ],
      "metadata": {
        "colab": {
          "base_uri": "https://localhost:8080/"
        },
        "id": "v1y0crNnrQtv",
        "outputId": "317be12b-2b28-4191-99e0-80b0fc13c36c"
      },
      "execution_count": 67,
      "outputs": [
        {
          "output_type": "execute_result",
          "data": {
            "text/plain": [
              "2"
            ]
          },
          "metadata": {},
          "execution_count": 67
        }
      ]
    },
    {
      "cell_type": "code",
      "source": [
        "y_test_cat[1001]"
      ],
      "metadata": {
        "colab": {
          "base_uri": "https://localhost:8080/"
        },
        "id": "z0hOeOjbrXCb",
        "outputId": "893794d9-b945-44fb-ac3a-dc6bb21ab1cf"
      },
      "execution_count": 68,
      "outputs": [
        {
          "output_type": "execute_result",
          "data": {
            "text/plain": [
              "array([0., 0., 0., 1., 0., 0., 0., 0., 0., 0.], dtype=float32)"
            ]
          },
          "metadata": {},
          "execution_count": 68
        }
      ]
    },
    {
      "cell_type": "code",
      "source": [
        "np.argmax(predictions[1001])"
      ],
      "metadata": {
        "colab": {
          "base_uri": "https://localhost:8080/"
        },
        "id": "6Lu5FD4qrdpJ",
        "outputId": "ae15b5c5-066b-4b55-8571-0ddc1337761c"
      },
      "execution_count": 69,
      "outputs": [
        {
          "output_type": "execute_result",
          "data": {
            "text/plain": [
              "3"
            ]
          },
          "metadata": {},
          "execution_count": 69
        }
      ]
    },
    {
      "cell_type": "code",
      "source": [
        "y_test[1001]"
      ],
      "metadata": {
        "colab": {
          "base_uri": "https://localhost:8080/"
        },
        "id": "t3TuWDssrjtU",
        "outputId": "c5d484cf-192f-487a-809a-1eb2b5c31d66"
      },
      "execution_count": 70,
      "outputs": [
        {
          "output_type": "execute_result",
          "data": {
            "text/plain": [
              "3"
            ]
          },
          "metadata": {},
          "execution_count": 70
        }
      ]
    },
    {
      "cell_type": "code",
      "execution_count": 71,
      "metadata": {
        "id": "WyWuXz-GQgfj",
        "colab": {
          "base_uri": "https://localhost:8080/"
        },
        "outputId": "05668bb1-1b64-45e3-ce53-20fe8d5c4d53"
      },
      "outputs": [
        {
          "output_type": "stream",
          "name": "stdout",
          "text": [
            "              precision    recall  f1-score   support\n",
            "\n",
            "           0       0.89      0.83      0.86      1000\n",
            "           1       1.00      0.97      0.98      1000\n",
            "           2       0.86      0.86      0.86      1000\n",
            "           3       0.91      0.89      0.90      1000\n",
            "           4       0.84      0.89      0.87      1000\n",
            "           5       0.99      0.97      0.98      1000\n",
            "           6       0.73      0.78      0.75      1000\n",
            "           7       0.94      0.98      0.96      1000\n",
            "           8       0.99      0.98      0.98      1000\n",
            "           9       0.98      0.96      0.97      1000\n",
            "\n",
            "    accuracy                           0.91     10000\n",
            "   macro avg       0.91      0.91      0.91     10000\n",
            "weighted avg       0.91      0.91      0.91     10000\n",
            "\n"
          ]
        }
      ],
      "source": [
        "print(classification_report(y_test, preds))"
      ]
    },
    {
      "cell_type": "code",
      "source": [
        "labels[6]"
      ],
      "metadata": {
        "colab": {
          "base_uri": "https://localhost:8080/",
          "height": 35
        },
        "id": "l12dl_jjtiuC",
        "outputId": "8ee12678-5bf9-4ea5-e16c-3740af90b66a"
      },
      "execution_count": 76,
      "outputs": [
        {
          "output_type": "execute_result",
          "data": {
            "text/plain": [
              "'Shirt'"
            ],
            "application/vnd.google.colaboratory.intrinsic+json": {
              "type": "string"
            }
          },
          "metadata": {},
          "execution_count": 76
        }
      ]
    },
    {
      "cell_type": "markdown",
      "source": [
        "Model have lowest recall score in label 6 which is Shirt. Rest of the classes have relatively higher scores."
      ],
      "metadata": {
        "id": "23naG-HgtnXx"
      }
    },
    {
      "cell_type": "markdown",
      "metadata": {
        "id": "UhrKve3EQgfk"
      },
      "source": [
        "# Prediction"
      ]
    },
    {
      "cell_type": "code",
      "execution_count": 79,
      "metadata": {
        "id": "z8qm75iGQgfk"
      },
      "outputs": [],
      "source": [
        "sample = [X_test[11], X_test[101],X_test[1001],X_test[2001],X_test[3001],X_test[5001],X_test[7001],X_test[8001],X_test[9001],X_test[9999]]"
      ]
    },
    {
      "cell_type": "code",
      "source": [
        "sample[0].shape"
      ],
      "metadata": {
        "colab": {
          "base_uri": "https://localhost:8080/"
        },
        "id": "vjAa9F_kwGqY",
        "outputId": "4586ed88-6d1d-480e-c878-76d8198f2950"
      },
      "execution_count": 92,
      "outputs": [
        {
          "output_type": "execute_result",
          "data": {
            "text/plain": [
              "(28, 28, 1)"
            ]
          },
          "metadata": {},
          "execution_count": 92
        }
      ]
    },
    {
      "cell_type": "code",
      "source": [
        "resized_img=np.expand_dims(sample[0], axis=0)\n",
        "resized_img.shape"
      ],
      "metadata": {
        "colab": {
          "base_uri": "https://localhost:8080/"
        },
        "id": "dsEGoIcSv0Su",
        "outputId": "71d7bcfa-80a6-461d-993d-0c823abbbc30"
      },
      "execution_count": 93,
      "outputs": [
        {
          "output_type": "execute_result",
          "data": {
            "text/plain": [
              "(1, 28, 28, 1)"
            ]
          },
          "metadata": {},
          "execution_count": 93
        }
      ]
    },
    {
      "cell_type": "code",
      "execution_count": 94,
      "metadata": {
        "id": "MljeWwa7Qgfk",
        "colab": {
          "base_uri": "https://localhost:8080/"
        },
        "outputId": "b28a16bc-3857-45bc-b24b-f6a126e22e0c"
      },
      "outputs": [
        {
          "output_type": "execute_result",
          "data": {
            "text/plain": [
              "array([[9.6016772e-10, 5.6971521e-15, 4.1290629e-10, 3.7515885e-14,\n",
              "        2.3488657e-11, 9.9997234e-01, 6.1334449e-10, 2.3843222e-05,\n",
              "        4.9270604e-08, 3.7635546e-06]], dtype=float32)"
            ]
          },
          "metadata": {},
          "execution_count": 94
        }
      ],
      "source": [
        "model.predict(resized_img)"
      ]
    },
    {
      "cell_type": "code",
      "source": [
        "np.argmax(model.predict(resized_img))"
      ],
      "metadata": {
        "colab": {
          "base_uri": "https://localhost:8080/"
        },
        "id": "xrH179GAwR3w",
        "outputId": "bfe33338-7843-4dac-bf80-29f8f994ec66"
      },
      "execution_count": 95,
      "outputs": [
        {
          "output_type": "execute_result",
          "data": {
            "text/plain": [
              "5"
            ]
          },
          "metadata": {},
          "execution_count": 95
        }
      ]
    },
    {
      "cell_type": "code",
      "source": [
        "labels[5]"
      ],
      "metadata": {
        "colab": {
          "base_uri": "https://localhost:8080/",
          "height": 35
        },
        "id": "48F27qf3wXW7",
        "outputId": "4cea3170-a312-4f99-8f05-be7297927829"
      },
      "execution_count": 96,
      "outputs": [
        {
          "output_type": "execute_result",
          "data": {
            "text/plain": [
              "'Sandal'"
            ],
            "application/vnd.google.colaboratory.intrinsic+json": {
              "type": "string"
            }
          },
          "metadata": {},
          "execution_count": 96
        }
      ]
    },
    {
      "cell_type": "code",
      "source": [
        "for img in sample:\n",
        "    resized_img=np.expand_dims(img, axis=0)\n",
        "    print(pd.Series(model.predict(resized_img).flatten(), index = labels).round(3))\n",
        "    print(f\"predicted label is : {labels[np.argmax(model.predict(resized_img))]}\\n\")"
      ],
      "metadata": {
        "colab": {
          "base_uri": "https://localhost:8080/"
        },
        "id": "el2wZMlhwdYf",
        "outputId": "22825d1a-76d5-4ab0-bb39-c0817b537e21"
      },
      "execution_count": 97,
      "outputs": [
        {
          "output_type": "stream",
          "name": "stdout",
          "text": [
            "T-shirt/top    0.0\n",
            "Trouser        0.0\n",
            "Pullover       0.0\n",
            "Dress          0.0\n",
            "Coat           0.0\n",
            "Sandal         1.0\n",
            "Shirt          0.0\n",
            "Sneaker        0.0\n",
            "Bag            0.0\n",
            "Ankle boot     0.0\n",
            "dtype: float32\n",
            "predicted label is : Sandal\n",
            "\n",
            "T-shirt/top    0.000\n",
            "Trouser        0.000\n",
            "Pullover       0.000\n",
            "Dress          0.000\n",
            "Coat           0.036\n",
            "Sandal         0.000\n",
            "Shirt          0.963\n",
            "Sneaker        0.000\n",
            "Bag            0.000\n",
            "Ankle boot     0.000\n",
            "dtype: float32\n",
            "predicted label is : Shirt\n",
            "\n",
            "T-shirt/top    0.0\n",
            "Trouser        0.0\n",
            "Pullover       0.0\n",
            "Dress          1.0\n",
            "Coat           0.0\n",
            "Sandal         0.0\n",
            "Shirt          0.0\n",
            "Sneaker        0.0\n",
            "Bag            0.0\n",
            "Ankle boot     0.0\n",
            "dtype: float32\n",
            "predicted label is : Dress\n",
            "\n",
            "T-shirt/top    0.000\n",
            "Trouser        0.000\n",
            "Pullover       0.000\n",
            "Dress          0.139\n",
            "Coat           0.783\n",
            "Sandal         0.000\n",
            "Shirt          0.078\n",
            "Sneaker        0.000\n",
            "Bag            0.000\n",
            "Ankle boot     0.000\n",
            "dtype: float32\n",
            "predicted label is : Coat\n",
            "\n",
            "T-shirt/top    0.000\n",
            "Trouser        0.000\n",
            "Pullover       0.002\n",
            "Dress          0.000\n",
            "Coat           0.996\n",
            "Sandal         0.000\n",
            "Shirt          0.002\n",
            "Sneaker        0.000\n",
            "Bag            0.000\n",
            "Ankle boot     0.000\n",
            "dtype: float32\n",
            "predicted label is : Coat\n",
            "\n",
            "T-shirt/top    0.0\n",
            "Trouser        0.0\n",
            "Pullover       0.0\n",
            "Dress          1.0\n",
            "Coat           0.0\n",
            "Sandal         0.0\n",
            "Shirt          0.0\n",
            "Sneaker        0.0\n",
            "Bag            0.0\n",
            "Ankle boot     0.0\n",
            "dtype: float32\n",
            "predicted label is : Dress\n",
            "\n",
            "T-shirt/top    0.000\n",
            "Trouser        0.000\n",
            "Pullover       0.997\n",
            "Dress          0.000\n",
            "Coat           0.000\n",
            "Sandal         0.000\n",
            "Shirt          0.003\n",
            "Sneaker        0.000\n",
            "Bag            0.000\n",
            "Ankle boot     0.000\n",
            "dtype: float32\n",
            "predicted label is : Pullover\n",
            "\n",
            "T-shirt/top    0.001\n",
            "Trouser        0.000\n",
            "Pullover       0.732\n",
            "Dress          0.000\n",
            "Coat           0.028\n",
            "Sandal         0.000\n",
            "Shirt          0.238\n",
            "Sneaker        0.000\n",
            "Bag            0.000\n",
            "Ankle boot     0.000\n",
            "dtype: float32\n",
            "predicted label is : Pullover\n",
            "\n",
            "T-shirt/top    0.0\n",
            "Trouser        0.0\n",
            "Pullover       0.0\n",
            "Dress          0.0\n",
            "Coat           0.0\n",
            "Sandal         0.0\n",
            "Shirt          0.0\n",
            "Sneaker        0.0\n",
            "Bag            0.0\n",
            "Ankle boot     1.0\n",
            "dtype: float32\n",
            "predicted label is : Ankle boot\n",
            "\n",
            "T-shirt/top    0.003\n",
            "Trouser        0.000\n",
            "Pullover       0.005\n",
            "Dress          0.000\n",
            "Coat           0.001\n",
            "Sandal         0.477\n",
            "Shirt          0.000\n",
            "Sneaker        0.411\n",
            "Bag            0.028\n",
            "Ankle boot     0.075\n",
            "dtype: float32\n",
            "predicted label is : Sandal\n",
            "\n"
          ]
        }
      ]
    },
    {
      "cell_type": "code",
      "source": [
        "actual_labels = [y_test[11], y_test[101],y_test[1001],y_test[2001],y_test[3001],y_test[5001],y_test[7001],y_test[8001],y_test[9001],y_test[9999]]\n",
        "actual_labels"
      ],
      "metadata": {
        "colab": {
          "base_uri": "https://localhost:8080/"
        },
        "id": "xGQ6BlhVxmfY",
        "outputId": "e52ac02c-4adb-4145-da7c-f814bc66cc38"
      },
      "execution_count": 109,
      "outputs": [
        {
          "output_type": "execute_result",
          "data": {
            "text/plain": [
              "[5, 6, 3, 2, 4, 3, 2, 2, 9, 5]"
            ]
          },
          "metadata": {},
          "execution_count": 109
        }
      ]
    },
    {
      "cell_type": "code",
      "source": [
        "for img in sample:\n",
        "    resized_img=np.expand_dims(img, axis=0)\n",
        "    print(f\"predicted label is : {labels[np.argmax(model.predict(resized_img))]}\\n\")"
      ],
      "metadata": {
        "colab": {
          "base_uri": "https://localhost:8080/"
        },
        "id": "GfPRHUrsycmg",
        "outputId": "d38cb29e-6982-4a35-e284-de52f350a3ad"
      },
      "execution_count": 115,
      "outputs": [
        {
          "output_type": "stream",
          "name": "stdout",
          "text": [
            "predicted label is : Sandal\n",
            "\n",
            "predicted label is : Shirt\n",
            "\n",
            "predicted label is : Dress\n",
            "\n",
            "predicted label is : Coat\n",
            "\n",
            "predicted label is : Coat\n",
            "\n",
            "predicted label is : Dress\n",
            "\n",
            "predicted label is : Pullover\n",
            "\n",
            "predicted label is : Pullover\n",
            "\n",
            "predicted label is : Ankle boot\n",
            "\n",
            "predicted label is : Sandal\n",
            "\n"
          ]
        }
      ]
    },
    {
      "cell_type": "code",
      "source": [
        "for i in actual_labels:\n",
        "    print(f\"actual label is :{labels[i]}\\n\")"
      ],
      "metadata": {
        "colab": {
          "base_uri": "https://localhost:8080/"
        },
        "id": "Sf9k1_Yty5Kt",
        "outputId": "2d50f6af-6948-495c-bdb9-78846b85d4fa"
      },
      "execution_count": 116,
      "outputs": [
        {
          "output_type": "stream",
          "name": "stdout",
          "text": [
            "actual label is :Sandal\n",
            "\n",
            "actual label is :Shirt\n",
            "\n",
            "actual label is :Dress\n",
            "\n",
            "actual label is :Pullover\n",
            "\n",
            "actual label is :Coat\n",
            "\n",
            "actual label is :Dress\n",
            "\n",
            "actual label is :Pullover\n",
            "\n",
            "actual label is :Pullover\n",
            "\n",
            "actual label is :Ankle boot\n",
            "\n",
            "actual label is :Sandal\n",
            "\n"
          ]
        }
      ]
    },
    {
      "cell_type": "markdown",
      "source": [
        "Model predict correctly 9 of the sample images. Only X_test[2001] predicted incorrectly, which is actually a pullover but predicted as a coat."
      ],
      "metadata": {
        "id": "udteEIpY0RgH"
      }
    },
    {
      "cell_type": "markdown",
      "metadata": {
        "id": "AD0gh2FCQgfk"
      },
      "source": [
        "# End of Assignment"
      ]
    }
  ],
  "metadata": {
    "kernelspec": {
      "display_name": "Python 3",
      "language": "python",
      "name": "python3"
    },
    "language_info": {
      "codemirror_mode": {
        "name": "ipython",
        "version": 3
      },
      "file_extension": ".py",
      "mimetype": "text/x-python",
      "name": "python",
      "nbconvert_exporter": "python",
      "pygments_lexer": "ipython3",
      "version": "3.8.5"
    },
    "colab": {
      "name": "Assignment-2 (CNN Image Classification).ipynb",
      "provenance": [],
      "collapsed_sections": [],
      "include_colab_link": true
    },
    "accelerator": "GPU"
  },
  "nbformat": 4,
  "nbformat_minor": 0
}